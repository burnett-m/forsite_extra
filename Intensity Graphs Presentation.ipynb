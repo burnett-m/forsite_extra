{
 "cells": [
  {
   "cell_type": "markdown",
   "metadata": {},
   "source": [
    "# Step 1\n",
    "Import all necessary modules\n",
    "Fill in the paths, species designations, and AOI name below"
   ]
  },
  {
   "cell_type": "code",
   "execution_count": 8,
   "metadata": {},
   "outputs": [],
   "source": [
    "import pandas as pd\n",
    "import laspy\n",
    "import geopandas as gpd\n",
    "import json\n",
    "import os\n",
    "import shutil\n",
    "import subprocess\n",
    "import numpy as np\n",
    "import plotly.express as px\n",
    "from pptx import Presentation\n",
    "from pptx.util import Inches\n",
    "from pptx.enum.text import PP_ALIGN\n",
    "from pptx.dml.color import RGBColor\n",
    "from pptx.util import Pt\n",
    "from python_pptx_text_replacer import TextReplacer\n",
    "from pptx.enum.text import PP_ALIGN\n",
    "import datetime\n",
    "\n",
    "####### WARNING, if you are running Windows 10, you need to downgrade kaleido module like this :\n",
    "# pip install --upgrade \"kaleido==0.1.*\"\n",
    "agtLAS = r\"C:\\--directory--\\AOI_merged.las\"\n",
    "agtSHP = r\"C:\\--direcotry\\AOI_mergedInitialShapes.shp\"\n",
    "outputDirectory = r\"C:\\--directory--\\IntensityGraphs\"\n",
    "#decid = ['AW','PB','BW']\n",
    "decid = ['AH','AR','BE','BI','CH','FM','HA','HC','MA','OK','PO','SY','WL']\n",
    "#conifer = ['FB','LT','PL','SB','SW']\n",
    "conifer = ['MC']\n",
    "dead = ['DP','SN']\n",
    "aoiName = 'AOI'"
   ]
  },
  {
   "cell_type": "markdown",
   "metadata": {},
   "source": [
    "# Step 2\n",
    "Access Intensity Data"
   ]
  },
  {
   "cell_type": "code",
   "execution_count": 9,
   "metadata": {},
   "outputs": [],
   "source": [
    "# Locate LASFromPoly tool\n",
    "if os.path.exists(os.environ['LOCALAPPDATA'] + '\\\\Dropbox\\\\info.json'):\n",
    "    with open(os.environ['LOCALAPPDATA'] + '\\\\Dropbox\\\\info.json') as f:\n",
    "        LASFromPoly_Path = json.load(f)['business']['path'] + r\"\\Project Data\\OR\\_TSI30Release\\LASFromPoly.exe\"\n",
    "elif os.path.exists(os.environ['APPDATA'] + '\\\\Dropbox\\\\info.json'):\n",
    "    with open(os.environ['APPDATA'] + '\\\\Dropbox\\\\info.json') as f:\n",
    "        LASFromPoly_Path = json.load(f)['business']['path'] + r\"\\Project Data\\OR\\_TSI30Release\\LASFromPoly.exe\"\n",
    "else:\n",
    "    print(\"Dropbox\\\\info.json location not not found\")\n",
    "    exit()\n",
    "\n",
    "# Reclassify LAZ into LAS using laszip\n",
    "if agtLAS[-1] == 'z':\n",
    "    agtDir = os.path.dirname(agtLAS) # Get directory of agtLAS\n",
    "    subprocess.run(\"laszip -i *.laz\",cwd=agtDir) # Convert LAZ to LAS\n",
    "    old_agtLAS = agtLAS.replace(\".laz\",\".las\")\n",
    "    baseName = os.path.basename(old_agtLAS)\n",
    "    agtLAS = os.path.join(outputDirectory,baseName)\n",
    "    shutil.copy(old_agtLAS,agtLAS)\n",
    "\n",
    "\n",
    "las = laspy.read(agtLAS)\n",
    "shp = gpd.read_file(agtSHP)\n",
    "las.header.add_crs(shp.crs)\n",
    "shp['SPECIES'] = shp['NAME'].str[-2:]\n",
    "shp_unique = shp['SPECIES'].unique()\n",
    "\n",
    "shp_count = list() # Create list for species count\n",
    "\n",
    "for i in shp_unique:\n",
    "    shp_temp = shp[shp['SPECIES'] == i]\n",
    "    shp_count.append(shp_temp.shape[0])\n",
    "    temp_int = list()\n",
    "    temp_class = list()\n",
    "    os.makedirs(f\"{outputDirectory}\\individualLAS\",exist_ok=True)\n",
    "    os.makedirs(f\"{outputDirectory}\\individualLAS\\{i}\",exist_ok=True)\n",
    "    shp_temp.to_file(f\"{outputDirectory}\\individualLAS\\{i}.shp\")\n",
    "    \n",
    "    # Prepare LASFromPoly command\n",
    "    args1 = [ \n",
    "        LASFromPoly_Path,\n",
    "        os.path.dirname(agtLAS),\n",
    "        f\"{outputDirectory}\\individualLAS\\{i}.shp\",\n",
    "        fr\"{outputDirectory}\\individualLAS\\{i}\",\n",
    "        \"nThreads=4\"\n",
    "    ]\n",
    "    #subprocess.run(args1, stdout=subprocess.DEVNULL, stderr=subprocess.STDOUT)\n",
    "    subprocess.run(args1)\n",
    "    \n",
    "    # Create CSV files with intensity lists\n",
    "    speciesLAS_list = os.listdir(f\"{outputDirectory}\\individualLAS\\{i}\")\n",
    "    speciesLAS_list = [os.path.join(f\"{outputDirectory}\\individualLAS\\{i}\",f) for f in speciesLAS_list]\n",
    "    \n",
    "    # Create data frame with intensity and classifications\n",
    "    for c_l in speciesLAS_list:\n",
    "        temp_las = laspy.read(c_l)\n",
    "        [temp_int.append(intensity) for intensity in temp_las.intensity.tolist()]\n",
    "        [temp_class.append(classification) for classification in list(temp_las.classification)]\n",
    "    temp_df = pd.DataFrame({\"Intensity\":temp_int,\"Classification\":temp_class})\n",
    "    temp_df = temp_df[temp_df['Classification']!=2]\n",
    "    #temp_df = temp_df[temp_df['Classification']==1] # Use when the LAS only has classifications of 1 and 2 (2 is ground)\n",
    "    os.makedirs(f\"{outputDirectory}\\Raw_Intensity\",exist_ok=True)\n",
    "    temp_df.to_csv(f\"{outputDirectory}\\Raw_Intensity\\{i}_rawIntensity.csv\")\n",
    "    \n",
    "# Create species count CSV\n",
    "spec_sum = pd.DataFrame({'Species': shp_unique, 'Count': shp_count})\n",
    "spec_sum.to_csv(f\"{outputDirectory}\\speciesCount.csv\",index=False)"
   ]
  },
  {
   "cell_type": "markdown",
   "metadata": {},
   "source": [
    "# Step 3\n",
    "Create Frequency Tables"
   ]
  },
  {
   "cell_type": "code",
   "execution_count": 10,
   "metadata": {},
   "outputs": [],
   "source": [
    "# Create frequency bins\n",
    "intensity_max = las.intensity.max()\n",
    "if intensity_max < 5000: # Use the optimal frequency bin size for the data\n",
    "    by_n = 200\n",
    "elif 5000 <= intensity_max <= 25000:\n",
    "    by_n = 1000\n",
    "elif 25000 < intensity_max <= 75000:\n",
    "    by_n = 2000\n",
    "else:\n",
    "    by_n = 5000\n",
    "br = list(range(0, intensity_max + by_n, by_n))\n",
    "\n",
    "# Create intensity frequency table\n",
    "csv_files = [f for f in os.listdir(os.path.join(outputDirectory, \"Raw_Intensity\")) if f.endswith(\"rawIntensity.csv\")] # Access list of rawIntensity files\n",
    "totalIntensity = pd.DataFrame()\n",
    "for i in csv_files:\n",
    "    temp_data = pd.read_csv(os.path.join(outputDirectory, \"Raw_Intensity\", i))\n",
    "    temp_name = i.replace(\"_rawIntensity.csv\", \"\").upper()\n",
    "    freq, edges = np.histogram(temp_data['Intensity'], bins=br) # Frequency histogram\n",
    "\n",
    "    if 'Bin' not in totalIntensity.columns:\n",
    "        totalIntensity['Bin'] = edges[:-1]\n",
    "    totalIntensity[f'Frequency_{temp_name}'] = freq # Separate frequencies into bins\n",
    "    totalIntensity[f'Percentage_{temp_name}'] = (totalIntensity[f'Frequency_{temp_name}'] / totalIntensity[f'Frequency_{temp_name}'].sum()) * 100 # Add percentage column\n",
    "    totalIntensity[f'species_{temp_name}'] = temp_name\n",
    "\n",
    "totalIntensity.to_csv(f\"{outputDirectory}\\IntensityHistogram.csv\")"
   ]
  },
  {
   "cell_type": "markdown",
   "metadata": {},
   "source": [
    "# Step 4\n",
    "Prepare Intensity Plots and save them"
   ]
  },
  {
   "cell_type": "code",
   "execution_count": 11,
   "metadata": {},
   "outputs": [
    {
     "name": "stderr",
     "output_type": "stream",
     "text": [
      "C:\\Users\\mburnett\\AppData\\Local\\Temp\\ipykernel_1108\\149196335.py:2: SettingWithCopyWarning:\n",
      "\n",
      "\n",
      "A value is trying to be set on a copy of a slice from a DataFrame.\n",
      "Try using .loc[row_indexer,col_indexer] = value instead\n",
      "\n",
      "See the caveats in the documentation: https://pandas.pydata.org/pandas-docs/stable/user_guide/indexing.html#returning-a-view-versus-a-copy\n",
      "\n"
     ]
    },
    {
     "data": {
      "application/vnd.plotly.v1+json": {
       "config": {
        "plotlyServerURL": "https://plot.ly"
       },
       "data": [
        {
         "hovertemplate": "SSP=AH<br>Intensity=%{x}<br>Percentage=%{y}<extra></extra>",
         "legendgroup": "AH",
         "line": {
          "color": "#FD3216",
          "dash": "solid"
         },
         "marker": {
          "symbol": "circle"
         },
         "mode": "lines",
         "name": "AH",
         "orientation": "v",
         "showlegend": true,
         "type": "scatter",
         "x": [
          1,
          2,
          3,
          4,
          5,
          6,
          7,
          8,
          9,
          10,
          11,
          12,
          13,
          14,
          15,
          16,
          17,
          18,
          19
         ],
         "xaxis": "x",
         "y": [
          0.003893569844789357,
          0.004904656319290466,
          0.011246119733924613,
          0.011379157427937917,
          0.011902439024390244,
          0.03504212860310421,
          0.04107317073170732,
          0.07419955654101995,
          0.10145454545454545,
          0.1614190687361419,
          0.15918403547671842,
          0.154039911308204,
          0.08178270509977827,
          0.08070066518847006,
          0.03427937915742794,
          0.02593348115299335,
          0.006022172949002217,
          0.000328159645232816,
          0.000008869179600886918
         ],
         "yaxis": "y"
        },
        {
         "hovertemplate": "SSP=AR<br>Intensity=%{x}<br>Percentage=%{y}<extra></extra>",
         "legendgroup": "AR",
         "line": {
          "color": "#00FE35",
          "dash": "solid"
         },
         "marker": {
          "symbol": "circle"
         },
         "mode": "lines",
         "name": "AR",
         "orientation": "v",
         "showlegend": true,
         "type": "scatter",
         "x": [
          1,
          2,
          3,
          4,
          5,
          6,
          7,
          8,
          9,
          10,
          11,
          12,
          13,
          14,
          15,
          16,
          17,
          18,
          19
         ],
         "xaxis": "x",
         "y": [
          0.009198169997592102,
          0.015121598844209007,
          0.004719479894052492,
          0.007633036359258367,
          0.01642186371297857,
          0.04960269684565374,
          0.05600770527329641,
          0.10221526607271851,
          0.21078738261497712,
          0.1705514086202745,
          0.07905128822537924,
          0.10869251143751506,
          0.10746448350589935,
          0.05668191668673249,
          0.004141584396821575,
          0.00004815795810257645,
          0,
          0,
          0
         ],
         "yaxis": "y"
        },
        {
         "hovertemplate": "SSP=BE<br>Intensity=%{x}<br>Percentage=%{y}<extra></extra>",
         "legendgroup": "BE",
         "line": {
          "color": "#6A76FC",
          "dash": "solid"
         },
         "marker": {
          "symbol": "circle"
         },
         "mode": "lines",
         "name": "BE",
         "orientation": "v",
         "showlegend": true,
         "type": "scatter",
         "x": [
          1,
          2,
          3,
          4,
          5,
          6,
          7,
          8,
          9,
          10,
          11,
          12,
          13,
          14,
          15,
          16,
          17,
          18,
          19
         ],
         "xaxis": "x",
         "y": [
          0.004797840971562797,
          0.014093657853965715,
          0.046978859513219055,
          0.029686641011544807,
          0.026787945424558948,
          0.02948673097106302,
          0.03248538157828977,
          0.04617921935129192,
          0.07191763706332151,
          0.06477085311609776,
          0.09955520015992804,
          0.2309960517767005,
          0.1554800339847069,
          0.1290919086411115,
          0.015642960667699535,
          0.0008995951821680244,
          0,
          0,
          0
         ],
         "yaxis": "y"
        },
        {
         "hovertemplate": "SSP=BI<br>Intensity=%{x}<br>Percentage=%{y}<extra></extra>",
         "legendgroup": "BI",
         "line": {
          "color": "#FED4C4",
          "dash": "solid"
         },
         "marker": {
          "symbol": "circle"
         },
         "mode": "lines",
         "name": "BI",
         "orientation": "v",
         "showlegend": true,
         "type": "scatter",
         "x": [
          1,
          2,
          3,
          4,
          5,
          6,
          7,
          8,
          9,
          10,
          11,
          12,
          13,
          14,
          15,
          16,
          17,
          18,
          19
         ],
         "xaxis": "x",
         "y": [
          0.022885698020115128,
          0.030653425264090074,
          0.027224998418622307,
          0.014599278891770512,
          0.019697640584477198,
          0.040103738376873935,
          0.0479979758365488,
          0.08538174457587451,
          0.10747042823708014,
          0.1388955658169397,
          0.1570750838130179,
          0.11684483522044405,
          0.06052248719084067,
          0.07117464735277373,
          0.029160604718831046,
          0.01575052185463976,
          0.002201277753178569,
          0.000025302043139983555,
          0
         ],
         "yaxis": "y"
        },
        {
         "hovertemplate": "SSP=CH<br>Intensity=%{x}<br>Percentage=%{y}<extra></extra>",
         "legendgroup": "CH",
         "line": {
          "color": "#FE00CE",
          "dash": "solid"
         },
         "marker": {
          "symbol": "circle"
         },
         "mode": "lines",
         "name": "CH",
         "orientation": "v",
         "showlegend": true,
         "type": "scatter",
         "x": [
          1,
          2,
          3,
          4,
          5,
          6,
          7,
          8,
          9,
          10,
          11,
          12,
          13,
          14,
          15,
          16,
          17,
          18,
          19
         ],
         "xaxis": "x",
         "y": [
          0.12729159460394326,
          0.023175371843652714,
          0,
          0,
          0.00034590107229332407,
          0.007263922518159807,
          0.043583535108958835,
          0.08993427879626427,
          0.11795226565202352,
          0.19301279833967486,
          0.30370114147353855,
          0.07090971982013144,
          0.0013836042891732963,
          0,
          0,
          0,
          0,
          0,
          0
         ],
         "yaxis": "y"
        },
        {
         "hovertemplate": "SSP=FM<br>Intensity=%{x}<br>Percentage=%{y}<extra></extra>",
         "legendgroup": "FM",
         "line": {
          "color": "#0DF9FF",
          "dash": "solid"
         },
         "marker": {
          "symbol": "circle"
         },
         "mode": "lines",
         "name": "FM",
         "orientation": "v",
         "showlegend": true,
         "type": "scatter",
         "x": [
          1,
          2,
          3,
          4,
          5,
          6,
          7,
          8,
          9,
          10,
          11,
          12,
          13,
          14,
          15,
          16,
          17,
          18,
          19
         ],
         "xaxis": "x",
         "y": [
          0.011301835486063902,
          0.042912984364377973,
          0.08225696804894629,
          0.10358599592114208,
          0.07596872875594833,
          0.05115567641060503,
          0.03713460231135282,
          0.06687627464309993,
          0.0623725356900068,
          0.09874235214140041,
          0.0849762066621346,
          0.06364717878993882,
          0.07613868116927261,
          0.08285180149558123,
          0.04529231815091774,
          0.012321549966009518,
          0.0002549286199864038,
          0,
          0
         ],
         "yaxis": "y"
        },
        {
         "hovertemplate": "SSP=HA<br>Intensity=%{x}<br>Percentage=%{y}<extra></extra>",
         "legendgroup": "HA",
         "line": {
          "color": "#F6F926",
          "dash": "solid"
         },
         "marker": {
          "symbol": "circle"
         },
         "mode": "lines",
         "name": "HA",
         "orientation": "v",
         "showlegend": true,
         "type": "scatter",
         "x": [
          1,
          2,
          3,
          4,
          5,
          6,
          7,
          8,
          9,
          10,
          11,
          12,
          13,
          14,
          15,
          16,
          17,
          18,
          19
         ],
         "xaxis": "x",
         "y": [
          0.011911828722941154,
          0.012564802722703708,
          0.02348727690055008,
          0.03801100162254145,
          0.03243104198820689,
          0.05275238434445369,
          0.06448612924927777,
          0.09434484942023824,
          0.10295223396256283,
          0.12323400213700582,
          0.1643911512129487,
          0.09549250069254818,
          0.05754086034271241,
          0.06351656179508489,
          0.03868376271320591,
          0.01984645217460129,
          0.001345522181328901,
          0,
          0
         ],
         "yaxis": "y"
        },
        {
         "hovertemplate": "SSP=HC<br>Intensity=%{x}<br>Percentage=%{y}<extra></extra>",
         "legendgroup": "HC",
         "line": {
          "color": "#FF9616",
          "dash": "solid"
         },
         "marker": {
          "symbol": "circle"
         },
         "mode": "lines",
         "name": "HC",
         "orientation": "v",
         "showlegend": true,
         "type": "scatter",
         "x": [
          1,
          2,
          3,
          4,
          5,
          6,
          7,
          8,
          9,
          10,
          11,
          12,
          13,
          14,
          15,
          16,
          17,
          18,
          19
         ],
         "xaxis": "x",
         "y": [
          0.0036495221600222685,
          0.00618563077969876,
          0.009046485015309436,
          0.010561964556335632,
          0.008304209321745585,
          0.02280951350013918,
          0.025221909504221693,
          0.06566047072650233,
          0.09266074907988742,
          0.18021835276652337,
          0.19033185909133085,
          0.16668728543593234,
          0.08884112207342344,
          0.07206259858349055,
          0.026969350199486597,
          0.024804379426592027,
          0.004793863854266539,
          0.0001701048464417159,
          0
         ],
         "yaxis": "y"
        },
        {
         "hovertemplate": "SSP=MC<br>Intensity=%{x}<br>Percentage=%{y}<extra></extra>",
         "legendgroup": "MC",
         "line": {
          "color": "#479B55",
          "dash": "solid"
         },
         "marker": {
          "symbol": "circle"
         },
         "mode": "lines",
         "name": "MC",
         "orientation": "v",
         "showlegend": true,
         "type": "scatter",
         "x": [
          1,
          2,
          3,
          4,
          5,
          6,
          7,
          8,
          9,
          10,
          11,
          12,
          13,
          14,
          15,
          16,
          17,
          18,
          19
         ],
         "xaxis": "x",
         "y": [
          0.009455030076000433,
          0.01741526492093794,
          0.019648452976983755,
          0.03956704967042467,
          0.056063825955408285,
          0.06908475308864316,
          0.07320894715988906,
          0.11158736447790224,
          0.16624644310773332,
          0.18357166012318554,
          0.1351979252962576,
          0.06980513633252891,
          0.026510103374995497,
          0.014605770269783524,
          0.004826567734034506,
          0.001296689838994345,
          0.00007203832438857472,
          0,
          0
         ],
         "yaxis": "y"
        },
        {
         "hovertemplate": "SSP=OK<br>Intensity=%{x}<br>Percentage=%{y}<extra></extra>",
         "legendgroup": "OK",
         "line": {
          "color": "#EEA6FB",
          "dash": "solid"
         },
         "marker": {
          "symbol": "circle"
         },
         "mode": "lines",
         "name": "OK",
         "orientation": "v",
         "showlegend": true,
         "type": "scatter",
         "x": [
          1,
          2,
          3,
          4,
          5,
          6,
          7,
          8,
          9,
          10,
          11,
          12,
          13,
          14,
          15,
          16,
          17,
          18,
          19
         ],
         "xaxis": "x",
         "y": [
          0.006905397474489313,
          0.022434259101493725,
          0.02857291607504591,
          0.023920410442816304,
          0.033102364589841164,
          0.054182995399557,
          0.020772988016129947,
          0.03358986009352341,
          0.051362147630677195,
          0.08161053368925238,
          0.13258457810340585,
          0.1992815357528256,
          0.16891482554287124,
          0.11484068836258306,
          0.021303080214308705,
          0.0033509399670585568,
          0.00015618787982052594,
          0.000004732966055167452,
          0
         ],
         "yaxis": "y"
        },
        {
         "hovertemplate": "SSP=PO<br>Intensity=%{x}<br>Percentage=%{y}<extra></extra>",
         "legendgroup": "PO",
         "line": {
          "color": "#DC587D",
          "dash": "solid"
         },
         "marker": {
          "symbol": "circle"
         },
         "mode": "lines",
         "name": "PO",
         "orientation": "v",
         "showlegend": true,
         "type": "scatter",
         "x": [
          1,
          2,
          3,
          4,
          5,
          6,
          7,
          8,
          9,
          10,
          11,
          12,
          13,
          14,
          15,
          16,
          17,
          18,
          19
         ],
         "xaxis": "x",
         "y": [
          0.008636144246018065,
          0.008256912362959388,
          0.010928773357236434,
          0.006722747017858374,
          0.0019995862924912086,
          0.013678204509411845,
          0.027623595118251396,
          0.07199372543611667,
          0.11148555471281806,
          0.16357822519478732,
          0.19925187892160243,
          0.17710990829483556,
          0.09434254981727919,
          0.06203888850582638,
          0.024434599737985244,
          0.012807694959663518,
          0.001982348479624905,
          0.00008618906433151762,
          0
         ],
         "yaxis": "y"
        },
        {
         "hovertemplate": "SSP=SY<br>Intensity=%{x}<br>Percentage=%{y}<extra></extra>",
         "legendgroup": "SY",
         "line": {
          "color": "#D626FF",
          "dash": "solid"
         },
         "marker": {
          "symbol": "circle"
         },
         "mode": "lines",
         "name": "SY",
         "orientation": "v",
         "showlegend": true,
         "type": "scatter",
         "x": [
          1,
          2,
          3,
          4,
          5,
          6,
          7,
          8,
          9,
          10,
          11,
          12,
          13,
          14,
          15,
          16,
          17,
          18,
          19
         ],
         "xaxis": "x",
         "y": [
          0.010692882187647648,
          0.02412944189786225,
          0.04878109432116776,
          0.049278437678732766,
          0.03899171923309654,
          0.0733498561848791,
          0.0731011845060966,
          0.1099460382457042,
          0.13343722283469137,
          0.1466002436982452,
          0.1616034349847896,
          0.08007228056796611,
          0.027113502043252295,
          0.012955794464568432,
          0.004683316617070482,
          0.0031415522086189604,
          0.00023209356686366988,
          0,
          0
         ],
         "yaxis": "y"
        },
        {
         "hovertemplate": "SSP=WL<br>Intensity=%{x}<br>Percentage=%{y}<extra></extra>",
         "legendgroup": "WL",
         "line": {
          "color": "#6E899C",
          "dash": "solid"
         },
         "marker": {
          "symbol": "circle"
         },
         "mode": "lines",
         "name": "WL",
         "orientation": "v",
         "showlegend": true,
         "type": "scatter",
         "x": [
          1,
          2,
          3,
          4,
          5,
          6,
          7,
          8,
          9,
          10,
          11,
          12,
          13,
          14,
          15,
          16,
          17,
          18,
          19
         ],
         "xaxis": "x",
         "y": [
          0.002252546967006262,
          0.0019534535937938127,
          0.0036171604822880644,
          0.006542667539022339,
          0.01196373492849799,
          0.02938592391812319,
          0.04186372558183008,
          0.08472754463033928,
          0.11802972240396299,
          0.16785680904757455,
          0.20473876063183474,
          0.18890550518740068,
          0.09794373305916441,
          0.03613421815122909,
          0.00306570707542761,
          0.00016824002243200298,
          0,
          0,
          0
         ],
         "yaxis": "y"
        }
       ],
       "layout": {
        "font": {
         "size": 15
        },
        "legend": {
         "title": {
          "text": "Species"
         },
         "tracegroupgap": 0
        },
        "margin": {
         "t": 60
        },
        "plot_bgcolor": "white",
        "template": {
         "data": {
          "bar": [
           {
            "error_x": {
             "color": "#2a3f5f"
            },
            "error_y": {
             "color": "#2a3f5f"
            },
            "marker": {
             "line": {
              "color": "#E5ECF6",
              "width": 0.5
             },
             "pattern": {
              "fillmode": "overlay",
              "size": 10,
              "solidity": 0.2
             }
            },
            "type": "bar"
           }
          ],
          "barpolar": [
           {
            "marker": {
             "line": {
              "color": "#E5ECF6",
              "width": 0.5
             },
             "pattern": {
              "fillmode": "overlay",
              "size": 10,
              "solidity": 0.2
             }
            },
            "type": "barpolar"
           }
          ],
          "carpet": [
           {
            "aaxis": {
             "endlinecolor": "#2a3f5f",
             "gridcolor": "white",
             "linecolor": "white",
             "minorgridcolor": "white",
             "startlinecolor": "#2a3f5f"
            },
            "baxis": {
             "endlinecolor": "#2a3f5f",
             "gridcolor": "white",
             "linecolor": "white",
             "minorgridcolor": "white",
             "startlinecolor": "#2a3f5f"
            },
            "type": "carpet"
           }
          ],
          "choropleth": [
           {
            "colorbar": {
             "outlinewidth": 0,
             "ticks": ""
            },
            "type": "choropleth"
           }
          ],
          "contour": [
           {
            "colorbar": {
             "outlinewidth": 0,
             "ticks": ""
            },
            "colorscale": [
             [
              0,
              "#0d0887"
             ],
             [
              0.1111111111111111,
              "#46039f"
             ],
             [
              0.2222222222222222,
              "#7201a8"
             ],
             [
              0.3333333333333333,
              "#9c179e"
             ],
             [
              0.4444444444444444,
              "#bd3786"
             ],
             [
              0.5555555555555556,
              "#d8576b"
             ],
             [
              0.6666666666666666,
              "#ed7953"
             ],
             [
              0.7777777777777778,
              "#fb9f3a"
             ],
             [
              0.8888888888888888,
              "#fdca26"
             ],
             [
              1,
              "#f0f921"
             ]
            ],
            "type": "contour"
           }
          ],
          "contourcarpet": [
           {
            "colorbar": {
             "outlinewidth": 0,
             "ticks": ""
            },
            "type": "contourcarpet"
           }
          ],
          "heatmap": [
           {
            "colorbar": {
             "outlinewidth": 0,
             "ticks": ""
            },
            "colorscale": [
             [
              0,
              "#0d0887"
             ],
             [
              0.1111111111111111,
              "#46039f"
             ],
             [
              0.2222222222222222,
              "#7201a8"
             ],
             [
              0.3333333333333333,
              "#9c179e"
             ],
             [
              0.4444444444444444,
              "#bd3786"
             ],
             [
              0.5555555555555556,
              "#d8576b"
             ],
             [
              0.6666666666666666,
              "#ed7953"
             ],
             [
              0.7777777777777778,
              "#fb9f3a"
             ],
             [
              0.8888888888888888,
              "#fdca26"
             ],
             [
              1,
              "#f0f921"
             ]
            ],
            "type": "heatmap"
           }
          ],
          "heatmapgl": [
           {
            "colorbar": {
             "outlinewidth": 0,
             "ticks": ""
            },
            "colorscale": [
             [
              0,
              "#0d0887"
             ],
             [
              0.1111111111111111,
              "#46039f"
             ],
             [
              0.2222222222222222,
              "#7201a8"
             ],
             [
              0.3333333333333333,
              "#9c179e"
             ],
             [
              0.4444444444444444,
              "#bd3786"
             ],
             [
              0.5555555555555556,
              "#d8576b"
             ],
             [
              0.6666666666666666,
              "#ed7953"
             ],
             [
              0.7777777777777778,
              "#fb9f3a"
             ],
             [
              0.8888888888888888,
              "#fdca26"
             ],
             [
              1,
              "#f0f921"
             ]
            ],
            "type": "heatmapgl"
           }
          ],
          "histogram": [
           {
            "marker": {
             "pattern": {
              "fillmode": "overlay",
              "size": 10,
              "solidity": 0.2
             }
            },
            "type": "histogram"
           }
          ],
          "histogram2d": [
           {
            "colorbar": {
             "outlinewidth": 0,
             "ticks": ""
            },
            "colorscale": [
             [
              0,
              "#0d0887"
             ],
             [
              0.1111111111111111,
              "#46039f"
             ],
             [
              0.2222222222222222,
              "#7201a8"
             ],
             [
              0.3333333333333333,
              "#9c179e"
             ],
             [
              0.4444444444444444,
              "#bd3786"
             ],
             [
              0.5555555555555556,
              "#d8576b"
             ],
             [
              0.6666666666666666,
              "#ed7953"
             ],
             [
              0.7777777777777778,
              "#fb9f3a"
             ],
             [
              0.8888888888888888,
              "#fdca26"
             ],
             [
              1,
              "#f0f921"
             ]
            ],
            "type": "histogram2d"
           }
          ],
          "histogram2dcontour": [
           {
            "colorbar": {
             "outlinewidth": 0,
             "ticks": ""
            },
            "colorscale": [
             [
              0,
              "#0d0887"
             ],
             [
              0.1111111111111111,
              "#46039f"
             ],
             [
              0.2222222222222222,
              "#7201a8"
             ],
             [
              0.3333333333333333,
              "#9c179e"
             ],
             [
              0.4444444444444444,
              "#bd3786"
             ],
             [
              0.5555555555555556,
              "#d8576b"
             ],
             [
              0.6666666666666666,
              "#ed7953"
             ],
             [
              0.7777777777777778,
              "#fb9f3a"
             ],
             [
              0.8888888888888888,
              "#fdca26"
             ],
             [
              1,
              "#f0f921"
             ]
            ],
            "type": "histogram2dcontour"
           }
          ],
          "mesh3d": [
           {
            "colorbar": {
             "outlinewidth": 0,
             "ticks": ""
            },
            "type": "mesh3d"
           }
          ],
          "parcoords": [
           {
            "line": {
             "colorbar": {
              "outlinewidth": 0,
              "ticks": ""
             }
            },
            "type": "parcoords"
           }
          ],
          "pie": [
           {
            "automargin": true,
            "type": "pie"
           }
          ],
          "scatter": [
           {
            "fillpattern": {
             "fillmode": "overlay",
             "size": 10,
             "solidity": 0.2
            },
            "type": "scatter"
           }
          ],
          "scatter3d": [
           {
            "line": {
             "colorbar": {
              "outlinewidth": 0,
              "ticks": ""
             }
            },
            "marker": {
             "colorbar": {
              "outlinewidth": 0,
              "ticks": ""
             }
            },
            "type": "scatter3d"
           }
          ],
          "scattercarpet": [
           {
            "marker": {
             "colorbar": {
              "outlinewidth": 0,
              "ticks": ""
             }
            },
            "type": "scattercarpet"
           }
          ],
          "scattergeo": [
           {
            "marker": {
             "colorbar": {
              "outlinewidth": 0,
              "ticks": ""
             }
            },
            "type": "scattergeo"
           }
          ],
          "scattergl": [
           {
            "marker": {
             "colorbar": {
              "outlinewidth": 0,
              "ticks": ""
             }
            },
            "type": "scattergl"
           }
          ],
          "scattermapbox": [
           {
            "marker": {
             "colorbar": {
              "outlinewidth": 0,
              "ticks": ""
             }
            },
            "type": "scattermapbox"
           }
          ],
          "scatterpolar": [
           {
            "marker": {
             "colorbar": {
              "outlinewidth": 0,
              "ticks": ""
             }
            },
            "type": "scatterpolar"
           }
          ],
          "scatterpolargl": [
           {
            "marker": {
             "colorbar": {
              "outlinewidth": 0,
              "ticks": ""
             }
            },
            "type": "scatterpolargl"
           }
          ],
          "scatterternary": [
           {
            "marker": {
             "colorbar": {
              "outlinewidth": 0,
              "ticks": ""
             }
            },
            "type": "scatterternary"
           }
          ],
          "surface": [
           {
            "colorbar": {
             "outlinewidth": 0,
             "ticks": ""
            },
            "colorscale": [
             [
              0,
              "#0d0887"
             ],
             [
              0.1111111111111111,
              "#46039f"
             ],
             [
              0.2222222222222222,
              "#7201a8"
             ],
             [
              0.3333333333333333,
              "#9c179e"
             ],
             [
              0.4444444444444444,
              "#bd3786"
             ],
             [
              0.5555555555555556,
              "#d8576b"
             ],
             [
              0.6666666666666666,
              "#ed7953"
             ],
             [
              0.7777777777777778,
              "#fb9f3a"
             ],
             [
              0.8888888888888888,
              "#fdca26"
             ],
             [
              1,
              "#f0f921"
             ]
            ],
            "type": "surface"
           }
          ],
          "table": [
           {
            "cells": {
             "fill": {
              "color": "#EBF0F8"
             },
             "line": {
              "color": "white"
             }
            },
            "header": {
             "fill": {
              "color": "#C8D4E3"
             },
             "line": {
              "color": "white"
             }
            },
            "type": "table"
           }
          ]
         },
         "layout": {
          "annotationdefaults": {
           "arrowcolor": "#2a3f5f",
           "arrowhead": 0,
           "arrowwidth": 1
          },
          "autotypenumbers": "strict",
          "coloraxis": {
           "colorbar": {
            "outlinewidth": 0,
            "ticks": ""
           }
          },
          "colorscale": {
           "diverging": [
            [
             0,
             "#8e0152"
            ],
            [
             0.1,
             "#c51b7d"
            ],
            [
             0.2,
             "#de77ae"
            ],
            [
             0.3,
             "#f1b6da"
            ],
            [
             0.4,
             "#fde0ef"
            ],
            [
             0.5,
             "#f7f7f7"
            ],
            [
             0.6,
             "#e6f5d0"
            ],
            [
             0.7,
             "#b8e186"
            ],
            [
             0.8,
             "#7fbc41"
            ],
            [
             0.9,
             "#4d9221"
            ],
            [
             1,
             "#276419"
            ]
           ],
           "sequential": [
            [
             0,
             "#0d0887"
            ],
            [
             0.1111111111111111,
             "#46039f"
            ],
            [
             0.2222222222222222,
             "#7201a8"
            ],
            [
             0.3333333333333333,
             "#9c179e"
            ],
            [
             0.4444444444444444,
             "#bd3786"
            ],
            [
             0.5555555555555556,
             "#d8576b"
            ],
            [
             0.6666666666666666,
             "#ed7953"
            ],
            [
             0.7777777777777778,
             "#fb9f3a"
            ],
            [
             0.8888888888888888,
             "#fdca26"
            ],
            [
             1,
             "#f0f921"
            ]
           ],
           "sequentialminus": [
            [
             0,
             "#0d0887"
            ],
            [
             0.1111111111111111,
             "#46039f"
            ],
            [
             0.2222222222222222,
             "#7201a8"
            ],
            [
             0.3333333333333333,
             "#9c179e"
            ],
            [
             0.4444444444444444,
             "#bd3786"
            ],
            [
             0.5555555555555556,
             "#d8576b"
            ],
            [
             0.6666666666666666,
             "#ed7953"
            ],
            [
             0.7777777777777778,
             "#fb9f3a"
            ],
            [
             0.8888888888888888,
             "#fdca26"
            ],
            [
             1,
             "#f0f921"
            ]
           ]
          },
          "colorway": [
           "#636efa",
           "#EF553B",
           "#00cc96",
           "#ab63fa",
           "#FFA15A",
           "#19d3f3",
           "#FF6692",
           "#B6E880",
           "#FF97FF",
           "#FECB52"
          ],
          "font": {
           "color": "#2a3f5f"
          },
          "geo": {
           "bgcolor": "white",
           "lakecolor": "white",
           "landcolor": "#E5ECF6",
           "showlakes": true,
           "showland": true,
           "subunitcolor": "white"
          },
          "hoverlabel": {
           "align": "left"
          },
          "hovermode": "closest",
          "mapbox": {
           "style": "light"
          },
          "paper_bgcolor": "white",
          "plot_bgcolor": "#E5ECF6",
          "polar": {
           "angularaxis": {
            "gridcolor": "white",
            "linecolor": "white",
            "ticks": ""
           },
           "bgcolor": "#E5ECF6",
           "radialaxis": {
            "gridcolor": "white",
            "linecolor": "white",
            "ticks": ""
           }
          },
          "scene": {
           "xaxis": {
            "backgroundcolor": "#E5ECF6",
            "gridcolor": "white",
            "gridwidth": 2,
            "linecolor": "white",
            "showbackground": true,
            "ticks": "",
            "zerolinecolor": "white"
           },
           "yaxis": {
            "backgroundcolor": "#E5ECF6",
            "gridcolor": "white",
            "gridwidth": 2,
            "linecolor": "white",
            "showbackground": true,
            "ticks": "",
            "zerolinecolor": "white"
           },
           "zaxis": {
            "backgroundcolor": "#E5ECF6",
            "gridcolor": "white",
            "gridwidth": 2,
            "linecolor": "white",
            "showbackground": true,
            "ticks": "",
            "zerolinecolor": "white"
           }
          },
          "shapedefaults": {
           "line": {
            "color": "#2a3f5f"
           }
          },
          "ternary": {
           "aaxis": {
            "gridcolor": "white",
            "linecolor": "white",
            "ticks": ""
           },
           "baxis": {
            "gridcolor": "white",
            "linecolor": "white",
            "ticks": ""
           },
           "bgcolor": "#E5ECF6",
           "caxis": {
            "gridcolor": "white",
            "linecolor": "white",
            "ticks": ""
           }
          },
          "title": {
           "x": 0.05
          },
          "xaxis": {
           "automargin": true,
           "gridcolor": "white",
           "linecolor": "white",
           "ticks": "",
           "title": {
            "standoff": 15
           },
           "zerolinecolor": "white",
           "zerolinewidth": 2
          },
          "yaxis": {
           "automargin": true,
           "gridcolor": "white",
           "linecolor": "white",
           "ticks": "",
           "title": {
            "standoff": 15
           },
           "zerolinecolor": "white",
           "zerolinewidth": 2
          }
         }
        },
        "title": {
         "font": {
          "color": "black"
         },
         "text": "Fugro NGED Woodhall - All Species Intensity Histogram",
         "x": 0.5,
         "xanchor": "center",
         "y": 0.95,
         "yanchor": "top"
        },
        "xaxis": {
         "anchor": "y",
         "domain": [
          0,
          1
         ],
         "gridcolor": "white",
         "linecolor": "black",
         "linewidth": 2,
         "showline": true,
         "title": {
          "text": "Intensity"
         }
        },
        "yaxis": {
         "anchor": "x",
         "domain": [
          0,
          1
         ],
         "gridcolor": "black",
         "linecolor": "black",
         "linewidth": 2,
         "showline": true,
         "tickformat": ".0%",
         "title": {
          "text": "Percentage"
         }
        }
       }
      }
     },
     "metadata": {},
     "output_type": "display_data"
    },
    {
     "data": {
      "application/vnd.plotly.v1+json": {
       "config": {
        "plotlyServerURL": "https://plot.ly"
       },
       "data": [
        {
         "hovertemplate": "SSP=AH<br>Intensity=%{x}<br>Percentage=%{y}<extra></extra>",
         "legendgroup": "AH",
         "line": {
          "color": "#FD3216",
          "dash": "solid"
         },
         "marker": {
          "symbol": "circle"
         },
         "mode": "lines",
         "name": "AH",
         "orientation": "v",
         "showlegend": true,
         "type": "scatter",
         "x": [
          1,
          2,
          3,
          4,
          5,
          6,
          7,
          8,
          9,
          10,
          11,
          12,
          13,
          14,
          15,
          16,
          17,
          18,
          19
         ],
         "xaxis": "x",
         "y": [
          0.003893569844789357,
          0.004904656319290466,
          0.011246119733924613,
          0.011379157427937917,
          0.011902439024390244,
          0.03504212860310421,
          0.04107317073170732,
          0.07419955654101995,
          0.10145454545454545,
          0.1614190687361419,
          0.15918403547671842,
          0.154039911308204,
          0.08178270509977827,
          0.08070066518847006,
          0.03427937915742794,
          0.02593348115299335,
          0.006022172949002217,
          0.000328159645232816,
          0.000008869179600886918
         ],
         "yaxis": "y"
        },
        {
         "hovertemplate": "SSP=AR<br>Intensity=%{x}<br>Percentage=%{y}<extra></extra>",
         "legendgroup": "AR",
         "line": {
          "color": "#00FE35",
          "dash": "solid"
         },
         "marker": {
          "symbol": "circle"
         },
         "mode": "lines",
         "name": "AR",
         "orientation": "v",
         "showlegend": true,
         "type": "scatter",
         "x": [
          1,
          2,
          3,
          4,
          5,
          6,
          7,
          8,
          9,
          10,
          11,
          12,
          13,
          14,
          15,
          16,
          17,
          18,
          19
         ],
         "xaxis": "x",
         "y": [
          0.009198169997592102,
          0.015121598844209007,
          0.004719479894052492,
          0.007633036359258367,
          0.01642186371297857,
          0.04960269684565374,
          0.05600770527329641,
          0.10221526607271851,
          0.21078738261497712,
          0.1705514086202745,
          0.07905128822537924,
          0.10869251143751506,
          0.10746448350589935,
          0.05668191668673249,
          0.004141584396821575,
          0.00004815795810257645,
          0,
          0,
          0
         ],
         "yaxis": "y"
        },
        {
         "hovertemplate": "SSP=BE<br>Intensity=%{x}<br>Percentage=%{y}<extra></extra>",
         "legendgroup": "BE",
         "line": {
          "color": "#6A76FC",
          "dash": "solid"
         },
         "marker": {
          "symbol": "circle"
         },
         "mode": "lines",
         "name": "BE",
         "orientation": "v",
         "showlegend": true,
         "type": "scatter",
         "x": [
          1,
          2,
          3,
          4,
          5,
          6,
          7,
          8,
          9,
          10,
          11,
          12,
          13,
          14,
          15,
          16,
          17,
          18,
          19
         ],
         "xaxis": "x",
         "y": [
          0.004797840971562797,
          0.014093657853965715,
          0.046978859513219055,
          0.029686641011544807,
          0.026787945424558948,
          0.02948673097106302,
          0.03248538157828977,
          0.04617921935129192,
          0.07191763706332151,
          0.06477085311609776,
          0.09955520015992804,
          0.2309960517767005,
          0.1554800339847069,
          0.1290919086411115,
          0.015642960667699535,
          0.0008995951821680244,
          0,
          0,
          0
         ],
         "yaxis": "y"
        },
        {
         "hovertemplate": "SSP=BI<br>Intensity=%{x}<br>Percentage=%{y}<extra></extra>",
         "legendgroup": "BI",
         "line": {
          "color": "#FED4C4",
          "dash": "solid"
         },
         "marker": {
          "symbol": "circle"
         },
         "mode": "lines",
         "name": "BI",
         "orientation": "v",
         "showlegend": true,
         "type": "scatter",
         "x": [
          1,
          2,
          3,
          4,
          5,
          6,
          7,
          8,
          9,
          10,
          11,
          12,
          13,
          14,
          15,
          16,
          17,
          18,
          19
         ],
         "xaxis": "x",
         "y": [
          0.022885698020115128,
          0.030653425264090074,
          0.027224998418622307,
          0.014599278891770512,
          0.019697640584477198,
          0.040103738376873935,
          0.0479979758365488,
          0.08538174457587451,
          0.10747042823708014,
          0.1388955658169397,
          0.1570750838130179,
          0.11684483522044405,
          0.06052248719084067,
          0.07117464735277373,
          0.029160604718831046,
          0.01575052185463976,
          0.002201277753178569,
          0.000025302043139983555,
          0
         ],
         "yaxis": "y"
        },
        {
         "hovertemplate": "SSP=CH<br>Intensity=%{x}<br>Percentage=%{y}<extra></extra>",
         "legendgroup": "CH",
         "line": {
          "color": "#FE00CE",
          "dash": "solid"
         },
         "marker": {
          "symbol": "circle"
         },
         "mode": "lines",
         "name": "CH",
         "orientation": "v",
         "showlegend": true,
         "type": "scatter",
         "x": [
          1,
          2,
          3,
          4,
          5,
          6,
          7,
          8,
          9,
          10,
          11,
          12,
          13,
          14,
          15,
          16,
          17,
          18,
          19
         ],
         "xaxis": "x",
         "y": [
          0.12729159460394326,
          0.023175371843652714,
          0,
          0,
          0.00034590107229332407,
          0.007263922518159807,
          0.043583535108958835,
          0.08993427879626427,
          0.11795226565202352,
          0.19301279833967486,
          0.30370114147353855,
          0.07090971982013144,
          0.0013836042891732963,
          0,
          0,
          0,
          0,
          0,
          0
         ],
         "yaxis": "y"
        },
        {
         "hovertemplate": "SSP=FM<br>Intensity=%{x}<br>Percentage=%{y}<extra></extra>",
         "legendgroup": "FM",
         "line": {
          "color": "#0DF9FF",
          "dash": "solid"
         },
         "marker": {
          "symbol": "circle"
         },
         "mode": "lines",
         "name": "FM",
         "orientation": "v",
         "showlegend": true,
         "type": "scatter",
         "x": [
          1,
          2,
          3,
          4,
          5,
          6,
          7,
          8,
          9,
          10,
          11,
          12,
          13,
          14,
          15,
          16,
          17,
          18,
          19
         ],
         "xaxis": "x",
         "y": [
          0.011301835486063902,
          0.042912984364377973,
          0.08225696804894629,
          0.10358599592114208,
          0.07596872875594833,
          0.05115567641060503,
          0.03713460231135282,
          0.06687627464309993,
          0.0623725356900068,
          0.09874235214140041,
          0.0849762066621346,
          0.06364717878993882,
          0.07613868116927261,
          0.08285180149558123,
          0.04529231815091774,
          0.012321549966009518,
          0.0002549286199864038,
          0,
          0
         ],
         "yaxis": "y"
        },
        {
         "hovertemplate": "SSP=HA<br>Intensity=%{x}<br>Percentage=%{y}<extra></extra>",
         "legendgroup": "HA",
         "line": {
          "color": "#F6F926",
          "dash": "solid"
         },
         "marker": {
          "symbol": "circle"
         },
         "mode": "lines",
         "name": "HA",
         "orientation": "v",
         "showlegend": true,
         "type": "scatter",
         "x": [
          1,
          2,
          3,
          4,
          5,
          6,
          7,
          8,
          9,
          10,
          11,
          12,
          13,
          14,
          15,
          16,
          17,
          18,
          19
         ],
         "xaxis": "x",
         "y": [
          0.011911828722941154,
          0.012564802722703708,
          0.02348727690055008,
          0.03801100162254145,
          0.03243104198820689,
          0.05275238434445369,
          0.06448612924927777,
          0.09434484942023824,
          0.10295223396256283,
          0.12323400213700582,
          0.1643911512129487,
          0.09549250069254818,
          0.05754086034271241,
          0.06351656179508489,
          0.03868376271320591,
          0.01984645217460129,
          0.001345522181328901,
          0,
          0
         ],
         "yaxis": "y"
        },
        {
         "hovertemplate": "SSP=HC<br>Intensity=%{x}<br>Percentage=%{y}<extra></extra>",
         "legendgroup": "HC",
         "line": {
          "color": "#FF9616",
          "dash": "solid"
         },
         "marker": {
          "symbol": "circle"
         },
         "mode": "lines",
         "name": "HC",
         "orientation": "v",
         "showlegend": true,
         "type": "scatter",
         "x": [
          1,
          2,
          3,
          4,
          5,
          6,
          7,
          8,
          9,
          10,
          11,
          12,
          13,
          14,
          15,
          16,
          17,
          18,
          19
         ],
         "xaxis": "x",
         "y": [
          0.0036495221600222685,
          0.00618563077969876,
          0.009046485015309436,
          0.010561964556335632,
          0.008304209321745585,
          0.02280951350013918,
          0.025221909504221693,
          0.06566047072650233,
          0.09266074907988742,
          0.18021835276652337,
          0.19033185909133085,
          0.16668728543593234,
          0.08884112207342344,
          0.07206259858349055,
          0.026969350199486597,
          0.024804379426592027,
          0.004793863854266539,
          0.0001701048464417159,
          0
         ],
         "yaxis": "y"
        },
        {
         "hovertemplate": "SSP=OK<br>Intensity=%{x}<br>Percentage=%{y}<extra></extra>",
         "legendgroup": "OK",
         "line": {
          "color": "#EEA6FB",
          "dash": "solid"
         },
         "marker": {
          "symbol": "circle"
         },
         "mode": "lines",
         "name": "OK",
         "orientation": "v",
         "showlegend": true,
         "type": "scatter",
         "x": [
          1,
          2,
          3,
          4,
          5,
          6,
          7,
          8,
          9,
          10,
          11,
          12,
          13,
          14,
          15,
          16,
          17,
          18,
          19
         ],
         "xaxis": "x",
         "y": [
          0.006905397474489313,
          0.022434259101493725,
          0.02857291607504591,
          0.023920410442816304,
          0.033102364589841164,
          0.054182995399557,
          0.020772988016129947,
          0.03358986009352341,
          0.051362147630677195,
          0.08161053368925238,
          0.13258457810340585,
          0.1992815357528256,
          0.16891482554287124,
          0.11484068836258306,
          0.021303080214308705,
          0.0033509399670585568,
          0.00015618787982052594,
          0.000004732966055167452,
          0
         ],
         "yaxis": "y"
        },
        {
         "hovertemplate": "SSP=PO<br>Intensity=%{x}<br>Percentage=%{y}<extra></extra>",
         "legendgroup": "PO",
         "line": {
          "color": "#DC587D",
          "dash": "solid"
         },
         "marker": {
          "symbol": "circle"
         },
         "mode": "lines",
         "name": "PO",
         "orientation": "v",
         "showlegend": true,
         "type": "scatter",
         "x": [
          1,
          2,
          3,
          4,
          5,
          6,
          7,
          8,
          9,
          10,
          11,
          12,
          13,
          14,
          15,
          16,
          17,
          18,
          19
         ],
         "xaxis": "x",
         "y": [
          0.008636144246018065,
          0.008256912362959388,
          0.010928773357236434,
          0.006722747017858374,
          0.0019995862924912086,
          0.013678204509411845,
          0.027623595118251396,
          0.07199372543611667,
          0.11148555471281806,
          0.16357822519478732,
          0.19925187892160243,
          0.17710990829483556,
          0.09434254981727919,
          0.06203888850582638,
          0.024434599737985244,
          0.012807694959663518,
          0.001982348479624905,
          0.00008618906433151762,
          0
         ],
         "yaxis": "y"
        },
        {
         "hovertemplate": "SSP=SY<br>Intensity=%{x}<br>Percentage=%{y}<extra></extra>",
         "legendgroup": "SY",
         "line": {
          "color": "#D626FF",
          "dash": "solid"
         },
         "marker": {
          "symbol": "circle"
         },
         "mode": "lines",
         "name": "SY",
         "orientation": "v",
         "showlegend": true,
         "type": "scatter",
         "x": [
          1,
          2,
          3,
          4,
          5,
          6,
          7,
          8,
          9,
          10,
          11,
          12,
          13,
          14,
          15,
          16,
          17,
          18,
          19
         ],
         "xaxis": "x",
         "y": [
          0.010692882187647648,
          0.02412944189786225,
          0.04878109432116776,
          0.049278437678732766,
          0.03899171923309654,
          0.0733498561848791,
          0.0731011845060966,
          0.1099460382457042,
          0.13343722283469137,
          0.1466002436982452,
          0.1616034349847896,
          0.08007228056796611,
          0.027113502043252295,
          0.012955794464568432,
          0.004683316617070482,
          0.0031415522086189604,
          0.00023209356686366988,
          0,
          0
         ],
         "yaxis": "y"
        },
        {
         "hovertemplate": "SSP=WL<br>Intensity=%{x}<br>Percentage=%{y}<extra></extra>",
         "legendgroup": "WL",
         "line": {
          "color": "#6E899C",
          "dash": "solid"
         },
         "marker": {
          "symbol": "circle"
         },
         "mode": "lines",
         "name": "WL",
         "orientation": "v",
         "showlegend": true,
         "type": "scatter",
         "x": [
          1,
          2,
          3,
          4,
          5,
          6,
          7,
          8,
          9,
          10,
          11,
          12,
          13,
          14,
          15,
          16,
          17,
          18,
          19
         ],
         "xaxis": "x",
         "y": [
          0.002252546967006262,
          0.0019534535937938127,
          0.0036171604822880644,
          0.006542667539022339,
          0.01196373492849799,
          0.02938592391812319,
          0.04186372558183008,
          0.08472754463033928,
          0.11802972240396299,
          0.16785680904757455,
          0.20473876063183474,
          0.18890550518740068,
          0.09794373305916441,
          0.03613421815122909,
          0.00306570707542761,
          0.00016824002243200298,
          0,
          0,
          0
         ],
         "yaxis": "y"
        }
       ],
       "layout": {
        "font": {
         "size": 15
        },
        "legend": {
         "title": {
          "text": "Species"
         },
         "tracegroupgap": 0
        },
        "margin": {
         "t": 60
        },
        "plot_bgcolor": "white",
        "template": {
         "data": {
          "bar": [
           {
            "error_x": {
             "color": "#2a3f5f"
            },
            "error_y": {
             "color": "#2a3f5f"
            },
            "marker": {
             "line": {
              "color": "#E5ECF6",
              "width": 0.5
             },
             "pattern": {
              "fillmode": "overlay",
              "size": 10,
              "solidity": 0.2
             }
            },
            "type": "bar"
           }
          ],
          "barpolar": [
           {
            "marker": {
             "line": {
              "color": "#E5ECF6",
              "width": 0.5
             },
             "pattern": {
              "fillmode": "overlay",
              "size": 10,
              "solidity": 0.2
             }
            },
            "type": "barpolar"
           }
          ],
          "carpet": [
           {
            "aaxis": {
             "endlinecolor": "#2a3f5f",
             "gridcolor": "white",
             "linecolor": "white",
             "minorgridcolor": "white",
             "startlinecolor": "#2a3f5f"
            },
            "baxis": {
             "endlinecolor": "#2a3f5f",
             "gridcolor": "white",
             "linecolor": "white",
             "minorgridcolor": "white",
             "startlinecolor": "#2a3f5f"
            },
            "type": "carpet"
           }
          ],
          "choropleth": [
           {
            "colorbar": {
             "outlinewidth": 0,
             "ticks": ""
            },
            "type": "choropleth"
           }
          ],
          "contour": [
           {
            "colorbar": {
             "outlinewidth": 0,
             "ticks": ""
            },
            "colorscale": [
             [
              0,
              "#0d0887"
             ],
             [
              0.1111111111111111,
              "#46039f"
             ],
             [
              0.2222222222222222,
              "#7201a8"
             ],
             [
              0.3333333333333333,
              "#9c179e"
             ],
             [
              0.4444444444444444,
              "#bd3786"
             ],
             [
              0.5555555555555556,
              "#d8576b"
             ],
             [
              0.6666666666666666,
              "#ed7953"
             ],
             [
              0.7777777777777778,
              "#fb9f3a"
             ],
             [
              0.8888888888888888,
              "#fdca26"
             ],
             [
              1,
              "#f0f921"
             ]
            ],
            "type": "contour"
           }
          ],
          "contourcarpet": [
           {
            "colorbar": {
             "outlinewidth": 0,
             "ticks": ""
            },
            "type": "contourcarpet"
           }
          ],
          "heatmap": [
           {
            "colorbar": {
             "outlinewidth": 0,
             "ticks": ""
            },
            "colorscale": [
             [
              0,
              "#0d0887"
             ],
             [
              0.1111111111111111,
              "#46039f"
             ],
             [
              0.2222222222222222,
              "#7201a8"
             ],
             [
              0.3333333333333333,
              "#9c179e"
             ],
             [
              0.4444444444444444,
              "#bd3786"
             ],
             [
              0.5555555555555556,
              "#d8576b"
             ],
             [
              0.6666666666666666,
              "#ed7953"
             ],
             [
              0.7777777777777778,
              "#fb9f3a"
             ],
             [
              0.8888888888888888,
              "#fdca26"
             ],
             [
              1,
              "#f0f921"
             ]
            ],
            "type": "heatmap"
           }
          ],
          "heatmapgl": [
           {
            "colorbar": {
             "outlinewidth": 0,
             "ticks": ""
            },
            "colorscale": [
             [
              0,
              "#0d0887"
             ],
             [
              0.1111111111111111,
              "#46039f"
             ],
             [
              0.2222222222222222,
              "#7201a8"
             ],
             [
              0.3333333333333333,
              "#9c179e"
             ],
             [
              0.4444444444444444,
              "#bd3786"
             ],
             [
              0.5555555555555556,
              "#d8576b"
             ],
             [
              0.6666666666666666,
              "#ed7953"
             ],
             [
              0.7777777777777778,
              "#fb9f3a"
             ],
             [
              0.8888888888888888,
              "#fdca26"
             ],
             [
              1,
              "#f0f921"
             ]
            ],
            "type": "heatmapgl"
           }
          ],
          "histogram": [
           {
            "marker": {
             "pattern": {
              "fillmode": "overlay",
              "size": 10,
              "solidity": 0.2
             }
            },
            "type": "histogram"
           }
          ],
          "histogram2d": [
           {
            "colorbar": {
             "outlinewidth": 0,
             "ticks": ""
            },
            "colorscale": [
             [
              0,
              "#0d0887"
             ],
             [
              0.1111111111111111,
              "#46039f"
             ],
             [
              0.2222222222222222,
              "#7201a8"
             ],
             [
              0.3333333333333333,
              "#9c179e"
             ],
             [
              0.4444444444444444,
              "#bd3786"
             ],
             [
              0.5555555555555556,
              "#d8576b"
             ],
             [
              0.6666666666666666,
              "#ed7953"
             ],
             [
              0.7777777777777778,
              "#fb9f3a"
             ],
             [
              0.8888888888888888,
              "#fdca26"
             ],
             [
              1,
              "#f0f921"
             ]
            ],
            "type": "histogram2d"
           }
          ],
          "histogram2dcontour": [
           {
            "colorbar": {
             "outlinewidth": 0,
             "ticks": ""
            },
            "colorscale": [
             [
              0,
              "#0d0887"
             ],
             [
              0.1111111111111111,
              "#46039f"
             ],
             [
              0.2222222222222222,
              "#7201a8"
             ],
             [
              0.3333333333333333,
              "#9c179e"
             ],
             [
              0.4444444444444444,
              "#bd3786"
             ],
             [
              0.5555555555555556,
              "#d8576b"
             ],
             [
              0.6666666666666666,
              "#ed7953"
             ],
             [
              0.7777777777777778,
              "#fb9f3a"
             ],
             [
              0.8888888888888888,
              "#fdca26"
             ],
             [
              1,
              "#f0f921"
             ]
            ],
            "type": "histogram2dcontour"
           }
          ],
          "mesh3d": [
           {
            "colorbar": {
             "outlinewidth": 0,
             "ticks": ""
            },
            "type": "mesh3d"
           }
          ],
          "parcoords": [
           {
            "line": {
             "colorbar": {
              "outlinewidth": 0,
              "ticks": ""
             }
            },
            "type": "parcoords"
           }
          ],
          "pie": [
           {
            "automargin": true,
            "type": "pie"
           }
          ],
          "scatter": [
           {
            "fillpattern": {
             "fillmode": "overlay",
             "size": 10,
             "solidity": 0.2
            },
            "type": "scatter"
           }
          ],
          "scatter3d": [
           {
            "line": {
             "colorbar": {
              "outlinewidth": 0,
              "ticks": ""
             }
            },
            "marker": {
             "colorbar": {
              "outlinewidth": 0,
              "ticks": ""
             }
            },
            "type": "scatter3d"
           }
          ],
          "scattercarpet": [
           {
            "marker": {
             "colorbar": {
              "outlinewidth": 0,
              "ticks": ""
             }
            },
            "type": "scattercarpet"
           }
          ],
          "scattergeo": [
           {
            "marker": {
             "colorbar": {
              "outlinewidth": 0,
              "ticks": ""
             }
            },
            "type": "scattergeo"
           }
          ],
          "scattergl": [
           {
            "marker": {
             "colorbar": {
              "outlinewidth": 0,
              "ticks": ""
             }
            },
            "type": "scattergl"
           }
          ],
          "scattermapbox": [
           {
            "marker": {
             "colorbar": {
              "outlinewidth": 0,
              "ticks": ""
             }
            },
            "type": "scattermapbox"
           }
          ],
          "scatterpolar": [
           {
            "marker": {
             "colorbar": {
              "outlinewidth": 0,
              "ticks": ""
             }
            },
            "type": "scatterpolar"
           }
          ],
          "scatterpolargl": [
           {
            "marker": {
             "colorbar": {
              "outlinewidth": 0,
              "ticks": ""
             }
            },
            "type": "scatterpolargl"
           }
          ],
          "scatterternary": [
           {
            "marker": {
             "colorbar": {
              "outlinewidth": 0,
              "ticks": ""
             }
            },
            "type": "scatterternary"
           }
          ],
          "surface": [
           {
            "colorbar": {
             "outlinewidth": 0,
             "ticks": ""
            },
            "colorscale": [
             [
              0,
              "#0d0887"
             ],
             [
              0.1111111111111111,
              "#46039f"
             ],
             [
              0.2222222222222222,
              "#7201a8"
             ],
             [
              0.3333333333333333,
              "#9c179e"
             ],
             [
              0.4444444444444444,
              "#bd3786"
             ],
             [
              0.5555555555555556,
              "#d8576b"
             ],
             [
              0.6666666666666666,
              "#ed7953"
             ],
             [
              0.7777777777777778,
              "#fb9f3a"
             ],
             [
              0.8888888888888888,
              "#fdca26"
             ],
             [
              1,
              "#f0f921"
             ]
            ],
            "type": "surface"
           }
          ],
          "table": [
           {
            "cells": {
             "fill": {
              "color": "#EBF0F8"
             },
             "line": {
              "color": "white"
             }
            },
            "header": {
             "fill": {
              "color": "#C8D4E3"
             },
             "line": {
              "color": "white"
             }
            },
            "type": "table"
           }
          ]
         },
         "layout": {
          "annotationdefaults": {
           "arrowcolor": "#2a3f5f",
           "arrowhead": 0,
           "arrowwidth": 1
          },
          "autotypenumbers": "strict",
          "coloraxis": {
           "colorbar": {
            "outlinewidth": 0,
            "ticks": ""
           }
          },
          "colorscale": {
           "diverging": [
            [
             0,
             "#8e0152"
            ],
            [
             0.1,
             "#c51b7d"
            ],
            [
             0.2,
             "#de77ae"
            ],
            [
             0.3,
             "#f1b6da"
            ],
            [
             0.4,
             "#fde0ef"
            ],
            [
             0.5,
             "#f7f7f7"
            ],
            [
             0.6,
             "#e6f5d0"
            ],
            [
             0.7,
             "#b8e186"
            ],
            [
             0.8,
             "#7fbc41"
            ],
            [
             0.9,
             "#4d9221"
            ],
            [
             1,
             "#276419"
            ]
           ],
           "sequential": [
            [
             0,
             "#0d0887"
            ],
            [
             0.1111111111111111,
             "#46039f"
            ],
            [
             0.2222222222222222,
             "#7201a8"
            ],
            [
             0.3333333333333333,
             "#9c179e"
            ],
            [
             0.4444444444444444,
             "#bd3786"
            ],
            [
             0.5555555555555556,
             "#d8576b"
            ],
            [
             0.6666666666666666,
             "#ed7953"
            ],
            [
             0.7777777777777778,
             "#fb9f3a"
            ],
            [
             0.8888888888888888,
             "#fdca26"
            ],
            [
             1,
             "#f0f921"
            ]
           ],
           "sequentialminus": [
            [
             0,
             "#0d0887"
            ],
            [
             0.1111111111111111,
             "#46039f"
            ],
            [
             0.2222222222222222,
             "#7201a8"
            ],
            [
             0.3333333333333333,
             "#9c179e"
            ],
            [
             0.4444444444444444,
             "#bd3786"
            ],
            [
             0.5555555555555556,
             "#d8576b"
            ],
            [
             0.6666666666666666,
             "#ed7953"
            ],
            [
             0.7777777777777778,
             "#fb9f3a"
            ],
            [
             0.8888888888888888,
             "#fdca26"
            ],
            [
             1,
             "#f0f921"
            ]
           ]
          },
          "colorway": [
           "#636efa",
           "#EF553B",
           "#00cc96",
           "#ab63fa",
           "#FFA15A",
           "#19d3f3",
           "#FF6692",
           "#B6E880",
           "#FF97FF",
           "#FECB52"
          ],
          "font": {
           "color": "#2a3f5f"
          },
          "geo": {
           "bgcolor": "white",
           "lakecolor": "white",
           "landcolor": "#E5ECF6",
           "showlakes": true,
           "showland": true,
           "subunitcolor": "white"
          },
          "hoverlabel": {
           "align": "left"
          },
          "hovermode": "closest",
          "mapbox": {
           "style": "light"
          },
          "paper_bgcolor": "white",
          "plot_bgcolor": "#E5ECF6",
          "polar": {
           "angularaxis": {
            "gridcolor": "white",
            "linecolor": "white",
            "ticks": ""
           },
           "bgcolor": "#E5ECF6",
           "radialaxis": {
            "gridcolor": "white",
            "linecolor": "white",
            "ticks": ""
           }
          },
          "scene": {
           "xaxis": {
            "backgroundcolor": "#E5ECF6",
            "gridcolor": "white",
            "gridwidth": 2,
            "linecolor": "white",
            "showbackground": true,
            "ticks": "",
            "zerolinecolor": "white"
           },
           "yaxis": {
            "backgroundcolor": "#E5ECF6",
            "gridcolor": "white",
            "gridwidth": 2,
            "linecolor": "white",
            "showbackground": true,
            "ticks": "",
            "zerolinecolor": "white"
           },
           "zaxis": {
            "backgroundcolor": "#E5ECF6",
            "gridcolor": "white",
            "gridwidth": 2,
            "linecolor": "white",
            "showbackground": true,
            "ticks": "",
            "zerolinecolor": "white"
           }
          },
          "shapedefaults": {
           "line": {
            "color": "#2a3f5f"
           }
          },
          "ternary": {
           "aaxis": {
            "gridcolor": "white",
            "linecolor": "white",
            "ticks": ""
           },
           "baxis": {
            "gridcolor": "white",
            "linecolor": "white",
            "ticks": ""
           },
           "bgcolor": "#E5ECF6",
           "caxis": {
            "gridcolor": "white",
            "linecolor": "white",
            "ticks": ""
           }
          },
          "title": {
           "x": 0.05
          },
          "xaxis": {
           "automargin": true,
           "gridcolor": "white",
           "linecolor": "white",
           "ticks": "",
           "title": {
            "standoff": 15
           },
           "zerolinecolor": "white",
           "zerolinewidth": 2
          },
          "yaxis": {
           "automargin": true,
           "gridcolor": "white",
           "linecolor": "white",
           "ticks": "",
           "title": {
            "standoff": 15
           },
           "zerolinecolor": "white",
           "zerolinewidth": 2
          }
         }
        },
        "title": {
         "font": {
          "color": "black"
         },
         "text": "Fugro NGED Woodhall - Deciduous Species Intensity Histogram",
         "x": 0.5,
         "xanchor": "center",
         "y": 0.95,
         "yanchor": "top"
        },
        "xaxis": {
         "anchor": "y",
         "domain": [
          0,
          1
         ],
         "gridcolor": "white",
         "linecolor": "black",
         "linewidth": 2,
         "showline": true,
         "title": {
          "text": "Intensity"
         }
        },
        "yaxis": {
         "anchor": "x",
         "domain": [
          0,
          1
         ],
         "gridcolor": "black",
         "linecolor": "black",
         "linewidth": 2,
         "showline": true,
         "tickformat": ".0%",
         "title": {
          "text": "Percentage"
         }
        }
       }
      }
     },
     "metadata": {},
     "output_type": "display_data"
    },
    {
     "data": {
      "application/vnd.plotly.v1+json": {
       "config": {
        "plotlyServerURL": "https://plot.ly"
       },
       "data": [
        {
         "hovertemplate": "SSP=MC<br>Intensity=%{x}<br>Percentage=%{y}<extra></extra>",
         "legendgroup": "MC",
         "line": {
          "color": "#479B55",
          "dash": "solid"
         },
         "marker": {
          "symbol": "circle"
         },
         "mode": "lines",
         "name": "MC",
         "orientation": "v",
         "showlegend": true,
         "type": "scatter",
         "x": [
          1,
          2,
          3,
          4,
          5,
          6,
          7,
          8,
          9,
          10,
          11,
          12,
          13,
          14,
          15,
          16,
          17,
          18,
          19
         ],
         "xaxis": "x",
         "y": [
          0.009455030076000433,
          0.01741526492093794,
          0.019648452976983755,
          0.03956704967042467,
          0.056063825955408285,
          0.06908475308864316,
          0.07320894715988906,
          0.11158736447790224,
          0.16624644310773332,
          0.18357166012318554,
          0.1351979252962576,
          0.06980513633252891,
          0.026510103374995497,
          0.014605770269783524,
          0.004826567734034506,
          0.001296689838994345,
          0.00007203832438857472,
          0,
          0
         ],
         "yaxis": "y"
        }
       ],
       "layout": {
        "font": {
         "size": 15
        },
        "legend": {
         "title": {
          "text": "Species"
         },
         "tracegroupgap": 0
        },
        "margin": {
         "t": 60
        },
        "plot_bgcolor": "white",
        "template": {
         "data": {
          "bar": [
           {
            "error_x": {
             "color": "#2a3f5f"
            },
            "error_y": {
             "color": "#2a3f5f"
            },
            "marker": {
             "line": {
              "color": "#E5ECF6",
              "width": 0.5
             },
             "pattern": {
              "fillmode": "overlay",
              "size": 10,
              "solidity": 0.2
             }
            },
            "type": "bar"
           }
          ],
          "barpolar": [
           {
            "marker": {
             "line": {
              "color": "#E5ECF6",
              "width": 0.5
             },
             "pattern": {
              "fillmode": "overlay",
              "size": 10,
              "solidity": 0.2
             }
            },
            "type": "barpolar"
           }
          ],
          "carpet": [
           {
            "aaxis": {
             "endlinecolor": "#2a3f5f",
             "gridcolor": "white",
             "linecolor": "white",
             "minorgridcolor": "white",
             "startlinecolor": "#2a3f5f"
            },
            "baxis": {
             "endlinecolor": "#2a3f5f",
             "gridcolor": "white",
             "linecolor": "white",
             "minorgridcolor": "white",
             "startlinecolor": "#2a3f5f"
            },
            "type": "carpet"
           }
          ],
          "choropleth": [
           {
            "colorbar": {
             "outlinewidth": 0,
             "ticks": ""
            },
            "type": "choropleth"
           }
          ],
          "contour": [
           {
            "colorbar": {
             "outlinewidth": 0,
             "ticks": ""
            },
            "colorscale": [
             [
              0,
              "#0d0887"
             ],
             [
              0.1111111111111111,
              "#46039f"
             ],
             [
              0.2222222222222222,
              "#7201a8"
             ],
             [
              0.3333333333333333,
              "#9c179e"
             ],
             [
              0.4444444444444444,
              "#bd3786"
             ],
             [
              0.5555555555555556,
              "#d8576b"
             ],
             [
              0.6666666666666666,
              "#ed7953"
             ],
             [
              0.7777777777777778,
              "#fb9f3a"
             ],
             [
              0.8888888888888888,
              "#fdca26"
             ],
             [
              1,
              "#f0f921"
             ]
            ],
            "type": "contour"
           }
          ],
          "contourcarpet": [
           {
            "colorbar": {
             "outlinewidth": 0,
             "ticks": ""
            },
            "type": "contourcarpet"
           }
          ],
          "heatmap": [
           {
            "colorbar": {
             "outlinewidth": 0,
             "ticks": ""
            },
            "colorscale": [
             [
              0,
              "#0d0887"
             ],
             [
              0.1111111111111111,
              "#46039f"
             ],
             [
              0.2222222222222222,
              "#7201a8"
             ],
             [
              0.3333333333333333,
              "#9c179e"
             ],
             [
              0.4444444444444444,
              "#bd3786"
             ],
             [
              0.5555555555555556,
              "#d8576b"
             ],
             [
              0.6666666666666666,
              "#ed7953"
             ],
             [
              0.7777777777777778,
              "#fb9f3a"
             ],
             [
              0.8888888888888888,
              "#fdca26"
             ],
             [
              1,
              "#f0f921"
             ]
            ],
            "type": "heatmap"
           }
          ],
          "heatmapgl": [
           {
            "colorbar": {
             "outlinewidth": 0,
             "ticks": ""
            },
            "colorscale": [
             [
              0,
              "#0d0887"
             ],
             [
              0.1111111111111111,
              "#46039f"
             ],
             [
              0.2222222222222222,
              "#7201a8"
             ],
             [
              0.3333333333333333,
              "#9c179e"
             ],
             [
              0.4444444444444444,
              "#bd3786"
             ],
             [
              0.5555555555555556,
              "#d8576b"
             ],
             [
              0.6666666666666666,
              "#ed7953"
             ],
             [
              0.7777777777777778,
              "#fb9f3a"
             ],
             [
              0.8888888888888888,
              "#fdca26"
             ],
             [
              1,
              "#f0f921"
             ]
            ],
            "type": "heatmapgl"
           }
          ],
          "histogram": [
           {
            "marker": {
             "pattern": {
              "fillmode": "overlay",
              "size": 10,
              "solidity": 0.2
             }
            },
            "type": "histogram"
           }
          ],
          "histogram2d": [
           {
            "colorbar": {
             "outlinewidth": 0,
             "ticks": ""
            },
            "colorscale": [
             [
              0,
              "#0d0887"
             ],
             [
              0.1111111111111111,
              "#46039f"
             ],
             [
              0.2222222222222222,
              "#7201a8"
             ],
             [
              0.3333333333333333,
              "#9c179e"
             ],
             [
              0.4444444444444444,
              "#bd3786"
             ],
             [
              0.5555555555555556,
              "#d8576b"
             ],
             [
              0.6666666666666666,
              "#ed7953"
             ],
             [
              0.7777777777777778,
              "#fb9f3a"
             ],
             [
              0.8888888888888888,
              "#fdca26"
             ],
             [
              1,
              "#f0f921"
             ]
            ],
            "type": "histogram2d"
           }
          ],
          "histogram2dcontour": [
           {
            "colorbar": {
             "outlinewidth": 0,
             "ticks": ""
            },
            "colorscale": [
             [
              0,
              "#0d0887"
             ],
             [
              0.1111111111111111,
              "#46039f"
             ],
             [
              0.2222222222222222,
              "#7201a8"
             ],
             [
              0.3333333333333333,
              "#9c179e"
             ],
             [
              0.4444444444444444,
              "#bd3786"
             ],
             [
              0.5555555555555556,
              "#d8576b"
             ],
             [
              0.6666666666666666,
              "#ed7953"
             ],
             [
              0.7777777777777778,
              "#fb9f3a"
             ],
             [
              0.8888888888888888,
              "#fdca26"
             ],
             [
              1,
              "#f0f921"
             ]
            ],
            "type": "histogram2dcontour"
           }
          ],
          "mesh3d": [
           {
            "colorbar": {
             "outlinewidth": 0,
             "ticks": ""
            },
            "type": "mesh3d"
           }
          ],
          "parcoords": [
           {
            "line": {
             "colorbar": {
              "outlinewidth": 0,
              "ticks": ""
             }
            },
            "type": "parcoords"
           }
          ],
          "pie": [
           {
            "automargin": true,
            "type": "pie"
           }
          ],
          "scatter": [
           {
            "fillpattern": {
             "fillmode": "overlay",
             "size": 10,
             "solidity": 0.2
            },
            "type": "scatter"
           }
          ],
          "scatter3d": [
           {
            "line": {
             "colorbar": {
              "outlinewidth": 0,
              "ticks": ""
             }
            },
            "marker": {
             "colorbar": {
              "outlinewidth": 0,
              "ticks": ""
             }
            },
            "type": "scatter3d"
           }
          ],
          "scattercarpet": [
           {
            "marker": {
             "colorbar": {
              "outlinewidth": 0,
              "ticks": ""
             }
            },
            "type": "scattercarpet"
           }
          ],
          "scattergeo": [
           {
            "marker": {
             "colorbar": {
              "outlinewidth": 0,
              "ticks": ""
             }
            },
            "type": "scattergeo"
           }
          ],
          "scattergl": [
           {
            "marker": {
             "colorbar": {
              "outlinewidth": 0,
              "ticks": ""
             }
            },
            "type": "scattergl"
           }
          ],
          "scattermapbox": [
           {
            "marker": {
             "colorbar": {
              "outlinewidth": 0,
              "ticks": ""
             }
            },
            "type": "scattermapbox"
           }
          ],
          "scatterpolar": [
           {
            "marker": {
             "colorbar": {
              "outlinewidth": 0,
              "ticks": ""
             }
            },
            "type": "scatterpolar"
           }
          ],
          "scatterpolargl": [
           {
            "marker": {
             "colorbar": {
              "outlinewidth": 0,
              "ticks": ""
             }
            },
            "type": "scatterpolargl"
           }
          ],
          "scatterternary": [
           {
            "marker": {
             "colorbar": {
              "outlinewidth": 0,
              "ticks": ""
             }
            },
            "type": "scatterternary"
           }
          ],
          "surface": [
           {
            "colorbar": {
             "outlinewidth": 0,
             "ticks": ""
            },
            "colorscale": [
             [
              0,
              "#0d0887"
             ],
             [
              0.1111111111111111,
              "#46039f"
             ],
             [
              0.2222222222222222,
              "#7201a8"
             ],
             [
              0.3333333333333333,
              "#9c179e"
             ],
             [
              0.4444444444444444,
              "#bd3786"
             ],
             [
              0.5555555555555556,
              "#d8576b"
             ],
             [
              0.6666666666666666,
              "#ed7953"
             ],
             [
              0.7777777777777778,
              "#fb9f3a"
             ],
             [
              0.8888888888888888,
              "#fdca26"
             ],
             [
              1,
              "#f0f921"
             ]
            ],
            "type": "surface"
           }
          ],
          "table": [
           {
            "cells": {
             "fill": {
              "color": "#EBF0F8"
             },
             "line": {
              "color": "white"
             }
            },
            "header": {
             "fill": {
              "color": "#C8D4E3"
             },
             "line": {
              "color": "white"
             }
            },
            "type": "table"
           }
          ]
         },
         "layout": {
          "annotationdefaults": {
           "arrowcolor": "#2a3f5f",
           "arrowhead": 0,
           "arrowwidth": 1
          },
          "autotypenumbers": "strict",
          "coloraxis": {
           "colorbar": {
            "outlinewidth": 0,
            "ticks": ""
           }
          },
          "colorscale": {
           "diverging": [
            [
             0,
             "#8e0152"
            ],
            [
             0.1,
             "#c51b7d"
            ],
            [
             0.2,
             "#de77ae"
            ],
            [
             0.3,
             "#f1b6da"
            ],
            [
             0.4,
             "#fde0ef"
            ],
            [
             0.5,
             "#f7f7f7"
            ],
            [
             0.6,
             "#e6f5d0"
            ],
            [
             0.7,
             "#b8e186"
            ],
            [
             0.8,
             "#7fbc41"
            ],
            [
             0.9,
             "#4d9221"
            ],
            [
             1,
             "#276419"
            ]
           ],
           "sequential": [
            [
             0,
             "#0d0887"
            ],
            [
             0.1111111111111111,
             "#46039f"
            ],
            [
             0.2222222222222222,
             "#7201a8"
            ],
            [
             0.3333333333333333,
             "#9c179e"
            ],
            [
             0.4444444444444444,
             "#bd3786"
            ],
            [
             0.5555555555555556,
             "#d8576b"
            ],
            [
             0.6666666666666666,
             "#ed7953"
            ],
            [
             0.7777777777777778,
             "#fb9f3a"
            ],
            [
             0.8888888888888888,
             "#fdca26"
            ],
            [
             1,
             "#f0f921"
            ]
           ],
           "sequentialminus": [
            [
             0,
             "#0d0887"
            ],
            [
             0.1111111111111111,
             "#46039f"
            ],
            [
             0.2222222222222222,
             "#7201a8"
            ],
            [
             0.3333333333333333,
             "#9c179e"
            ],
            [
             0.4444444444444444,
             "#bd3786"
            ],
            [
             0.5555555555555556,
             "#d8576b"
            ],
            [
             0.6666666666666666,
             "#ed7953"
            ],
            [
             0.7777777777777778,
             "#fb9f3a"
            ],
            [
             0.8888888888888888,
             "#fdca26"
            ],
            [
             1,
             "#f0f921"
            ]
           ]
          },
          "colorway": [
           "#636efa",
           "#EF553B",
           "#00cc96",
           "#ab63fa",
           "#FFA15A",
           "#19d3f3",
           "#FF6692",
           "#B6E880",
           "#FF97FF",
           "#FECB52"
          ],
          "font": {
           "color": "#2a3f5f"
          },
          "geo": {
           "bgcolor": "white",
           "lakecolor": "white",
           "landcolor": "#E5ECF6",
           "showlakes": true,
           "showland": true,
           "subunitcolor": "white"
          },
          "hoverlabel": {
           "align": "left"
          },
          "hovermode": "closest",
          "mapbox": {
           "style": "light"
          },
          "paper_bgcolor": "white",
          "plot_bgcolor": "#E5ECF6",
          "polar": {
           "angularaxis": {
            "gridcolor": "white",
            "linecolor": "white",
            "ticks": ""
           },
           "bgcolor": "#E5ECF6",
           "radialaxis": {
            "gridcolor": "white",
            "linecolor": "white",
            "ticks": ""
           }
          },
          "scene": {
           "xaxis": {
            "backgroundcolor": "#E5ECF6",
            "gridcolor": "white",
            "gridwidth": 2,
            "linecolor": "white",
            "showbackground": true,
            "ticks": "",
            "zerolinecolor": "white"
           },
           "yaxis": {
            "backgroundcolor": "#E5ECF6",
            "gridcolor": "white",
            "gridwidth": 2,
            "linecolor": "white",
            "showbackground": true,
            "ticks": "",
            "zerolinecolor": "white"
           },
           "zaxis": {
            "backgroundcolor": "#E5ECF6",
            "gridcolor": "white",
            "gridwidth": 2,
            "linecolor": "white",
            "showbackground": true,
            "ticks": "",
            "zerolinecolor": "white"
           }
          },
          "shapedefaults": {
           "line": {
            "color": "#2a3f5f"
           }
          },
          "ternary": {
           "aaxis": {
            "gridcolor": "white",
            "linecolor": "white",
            "ticks": ""
           },
           "baxis": {
            "gridcolor": "white",
            "linecolor": "white",
            "ticks": ""
           },
           "bgcolor": "#E5ECF6",
           "caxis": {
            "gridcolor": "white",
            "linecolor": "white",
            "ticks": ""
           }
          },
          "title": {
           "x": 0.05
          },
          "xaxis": {
           "automargin": true,
           "gridcolor": "white",
           "linecolor": "white",
           "ticks": "",
           "title": {
            "standoff": 15
           },
           "zerolinecolor": "white",
           "zerolinewidth": 2
          },
          "yaxis": {
           "automargin": true,
           "gridcolor": "white",
           "linecolor": "white",
           "ticks": "",
           "title": {
            "standoff": 15
           },
           "zerolinecolor": "white",
           "zerolinewidth": 2
          }
         }
        },
        "title": {
         "font": {
          "color": "black"
         },
         "text": "Fugro NGED Woodhall - Coniferous Species Intensity Histogram",
         "x": 0.5,
         "xanchor": "center",
         "y": 0.95,
         "yanchor": "top"
        },
        "xaxis": {
         "anchor": "y",
         "domain": [
          0,
          1
         ],
         "gridcolor": "white",
         "linecolor": "black",
         "linewidth": 2,
         "showline": true,
         "title": {
          "text": "Intensity"
         }
        },
        "yaxis": {
         "anchor": "x",
         "domain": [
          0,
          1
         ],
         "gridcolor": "black",
         "linecolor": "black",
         "linewidth": 2,
         "showline": true,
         "tickformat": ".0%",
         "title": {
          "text": "Percentage"
         }
        }
       }
      }
     },
     "metadata": {},
     "output_type": "display_data"
    },
    {
     "data": {
      "application/vnd.plotly.v1+json": {
       "config": {
        "plotlyServerURL": "https://plot.ly"
       },
       "data": [],
       "layout": {
        "font": {
         "size": 15
        },
        "legend": {
         "title": {
          "text": "Species"
         },
         "tracegroupgap": 0
        },
        "margin": {
         "t": 60
        },
        "plot_bgcolor": "white",
        "template": {
         "data": {
          "bar": [
           {
            "error_x": {
             "color": "#2a3f5f"
            },
            "error_y": {
             "color": "#2a3f5f"
            },
            "marker": {
             "line": {
              "color": "#E5ECF6",
              "width": 0.5
             },
             "pattern": {
              "fillmode": "overlay",
              "size": 10,
              "solidity": 0.2
             }
            },
            "type": "bar"
           }
          ],
          "barpolar": [
           {
            "marker": {
             "line": {
              "color": "#E5ECF6",
              "width": 0.5
             },
             "pattern": {
              "fillmode": "overlay",
              "size": 10,
              "solidity": 0.2
             }
            },
            "type": "barpolar"
           }
          ],
          "carpet": [
           {
            "aaxis": {
             "endlinecolor": "#2a3f5f",
             "gridcolor": "white",
             "linecolor": "white",
             "minorgridcolor": "white",
             "startlinecolor": "#2a3f5f"
            },
            "baxis": {
             "endlinecolor": "#2a3f5f",
             "gridcolor": "white",
             "linecolor": "white",
             "minorgridcolor": "white",
             "startlinecolor": "#2a3f5f"
            },
            "type": "carpet"
           }
          ],
          "choropleth": [
           {
            "colorbar": {
             "outlinewidth": 0,
             "ticks": ""
            },
            "type": "choropleth"
           }
          ],
          "contour": [
           {
            "colorbar": {
             "outlinewidth": 0,
             "ticks": ""
            },
            "colorscale": [
             [
              0,
              "#0d0887"
             ],
             [
              0.1111111111111111,
              "#46039f"
             ],
             [
              0.2222222222222222,
              "#7201a8"
             ],
             [
              0.3333333333333333,
              "#9c179e"
             ],
             [
              0.4444444444444444,
              "#bd3786"
             ],
             [
              0.5555555555555556,
              "#d8576b"
             ],
             [
              0.6666666666666666,
              "#ed7953"
             ],
             [
              0.7777777777777778,
              "#fb9f3a"
             ],
             [
              0.8888888888888888,
              "#fdca26"
             ],
             [
              1,
              "#f0f921"
             ]
            ],
            "type": "contour"
           }
          ],
          "contourcarpet": [
           {
            "colorbar": {
             "outlinewidth": 0,
             "ticks": ""
            },
            "type": "contourcarpet"
           }
          ],
          "heatmap": [
           {
            "colorbar": {
             "outlinewidth": 0,
             "ticks": ""
            },
            "colorscale": [
             [
              0,
              "#0d0887"
             ],
             [
              0.1111111111111111,
              "#46039f"
             ],
             [
              0.2222222222222222,
              "#7201a8"
             ],
             [
              0.3333333333333333,
              "#9c179e"
             ],
             [
              0.4444444444444444,
              "#bd3786"
             ],
             [
              0.5555555555555556,
              "#d8576b"
             ],
             [
              0.6666666666666666,
              "#ed7953"
             ],
             [
              0.7777777777777778,
              "#fb9f3a"
             ],
             [
              0.8888888888888888,
              "#fdca26"
             ],
             [
              1,
              "#f0f921"
             ]
            ],
            "type": "heatmap"
           }
          ],
          "heatmapgl": [
           {
            "colorbar": {
             "outlinewidth": 0,
             "ticks": ""
            },
            "colorscale": [
             [
              0,
              "#0d0887"
             ],
             [
              0.1111111111111111,
              "#46039f"
             ],
             [
              0.2222222222222222,
              "#7201a8"
             ],
             [
              0.3333333333333333,
              "#9c179e"
             ],
             [
              0.4444444444444444,
              "#bd3786"
             ],
             [
              0.5555555555555556,
              "#d8576b"
             ],
             [
              0.6666666666666666,
              "#ed7953"
             ],
             [
              0.7777777777777778,
              "#fb9f3a"
             ],
             [
              0.8888888888888888,
              "#fdca26"
             ],
             [
              1,
              "#f0f921"
             ]
            ],
            "type": "heatmapgl"
           }
          ],
          "histogram": [
           {
            "marker": {
             "pattern": {
              "fillmode": "overlay",
              "size": 10,
              "solidity": 0.2
             }
            },
            "type": "histogram"
           }
          ],
          "histogram2d": [
           {
            "colorbar": {
             "outlinewidth": 0,
             "ticks": ""
            },
            "colorscale": [
             [
              0,
              "#0d0887"
             ],
             [
              0.1111111111111111,
              "#46039f"
             ],
             [
              0.2222222222222222,
              "#7201a8"
             ],
             [
              0.3333333333333333,
              "#9c179e"
             ],
             [
              0.4444444444444444,
              "#bd3786"
             ],
             [
              0.5555555555555556,
              "#d8576b"
             ],
             [
              0.6666666666666666,
              "#ed7953"
             ],
             [
              0.7777777777777778,
              "#fb9f3a"
             ],
             [
              0.8888888888888888,
              "#fdca26"
             ],
             [
              1,
              "#f0f921"
             ]
            ],
            "type": "histogram2d"
           }
          ],
          "histogram2dcontour": [
           {
            "colorbar": {
             "outlinewidth": 0,
             "ticks": ""
            },
            "colorscale": [
             [
              0,
              "#0d0887"
             ],
             [
              0.1111111111111111,
              "#46039f"
             ],
             [
              0.2222222222222222,
              "#7201a8"
             ],
             [
              0.3333333333333333,
              "#9c179e"
             ],
             [
              0.4444444444444444,
              "#bd3786"
             ],
             [
              0.5555555555555556,
              "#d8576b"
             ],
             [
              0.6666666666666666,
              "#ed7953"
             ],
             [
              0.7777777777777778,
              "#fb9f3a"
             ],
             [
              0.8888888888888888,
              "#fdca26"
             ],
             [
              1,
              "#f0f921"
             ]
            ],
            "type": "histogram2dcontour"
           }
          ],
          "mesh3d": [
           {
            "colorbar": {
             "outlinewidth": 0,
             "ticks": ""
            },
            "type": "mesh3d"
           }
          ],
          "parcoords": [
           {
            "line": {
             "colorbar": {
              "outlinewidth": 0,
              "ticks": ""
             }
            },
            "type": "parcoords"
           }
          ],
          "pie": [
           {
            "automargin": true,
            "type": "pie"
           }
          ],
          "scatter": [
           {
            "fillpattern": {
             "fillmode": "overlay",
             "size": 10,
             "solidity": 0.2
            },
            "type": "scatter"
           }
          ],
          "scatter3d": [
           {
            "line": {
             "colorbar": {
              "outlinewidth": 0,
              "ticks": ""
             }
            },
            "marker": {
             "colorbar": {
              "outlinewidth": 0,
              "ticks": ""
             }
            },
            "type": "scatter3d"
           }
          ],
          "scattercarpet": [
           {
            "marker": {
             "colorbar": {
              "outlinewidth": 0,
              "ticks": ""
             }
            },
            "type": "scattercarpet"
           }
          ],
          "scattergeo": [
           {
            "marker": {
             "colorbar": {
              "outlinewidth": 0,
              "ticks": ""
             }
            },
            "type": "scattergeo"
           }
          ],
          "scattergl": [
           {
            "marker": {
             "colorbar": {
              "outlinewidth": 0,
              "ticks": ""
             }
            },
            "type": "scattergl"
           }
          ],
          "scattermapbox": [
           {
            "marker": {
             "colorbar": {
              "outlinewidth": 0,
              "ticks": ""
             }
            },
            "type": "scattermapbox"
           }
          ],
          "scatterpolar": [
           {
            "marker": {
             "colorbar": {
              "outlinewidth": 0,
              "ticks": ""
             }
            },
            "type": "scatterpolar"
           }
          ],
          "scatterpolargl": [
           {
            "marker": {
             "colorbar": {
              "outlinewidth": 0,
              "ticks": ""
             }
            },
            "type": "scatterpolargl"
           }
          ],
          "scatterternary": [
           {
            "marker": {
             "colorbar": {
              "outlinewidth": 0,
              "ticks": ""
             }
            },
            "type": "scatterternary"
           }
          ],
          "surface": [
           {
            "colorbar": {
             "outlinewidth": 0,
             "ticks": ""
            },
            "colorscale": [
             [
              0,
              "#0d0887"
             ],
             [
              0.1111111111111111,
              "#46039f"
             ],
             [
              0.2222222222222222,
              "#7201a8"
             ],
             [
              0.3333333333333333,
              "#9c179e"
             ],
             [
              0.4444444444444444,
              "#bd3786"
             ],
             [
              0.5555555555555556,
              "#d8576b"
             ],
             [
              0.6666666666666666,
              "#ed7953"
             ],
             [
              0.7777777777777778,
              "#fb9f3a"
             ],
             [
              0.8888888888888888,
              "#fdca26"
             ],
             [
              1,
              "#f0f921"
             ]
            ],
            "type": "surface"
           }
          ],
          "table": [
           {
            "cells": {
             "fill": {
              "color": "#EBF0F8"
             },
             "line": {
              "color": "white"
             }
            },
            "header": {
             "fill": {
              "color": "#C8D4E3"
             },
             "line": {
              "color": "white"
             }
            },
            "type": "table"
           }
          ]
         },
         "layout": {
          "annotationdefaults": {
           "arrowcolor": "#2a3f5f",
           "arrowhead": 0,
           "arrowwidth": 1
          },
          "autotypenumbers": "strict",
          "coloraxis": {
           "colorbar": {
            "outlinewidth": 0,
            "ticks": ""
           }
          },
          "colorscale": {
           "diverging": [
            [
             0,
             "#8e0152"
            ],
            [
             0.1,
             "#c51b7d"
            ],
            [
             0.2,
             "#de77ae"
            ],
            [
             0.3,
             "#f1b6da"
            ],
            [
             0.4,
             "#fde0ef"
            ],
            [
             0.5,
             "#f7f7f7"
            ],
            [
             0.6,
             "#e6f5d0"
            ],
            [
             0.7,
             "#b8e186"
            ],
            [
             0.8,
             "#7fbc41"
            ],
            [
             0.9,
             "#4d9221"
            ],
            [
             1,
             "#276419"
            ]
           ],
           "sequential": [
            [
             0,
             "#0d0887"
            ],
            [
             0.1111111111111111,
             "#46039f"
            ],
            [
             0.2222222222222222,
             "#7201a8"
            ],
            [
             0.3333333333333333,
             "#9c179e"
            ],
            [
             0.4444444444444444,
             "#bd3786"
            ],
            [
             0.5555555555555556,
             "#d8576b"
            ],
            [
             0.6666666666666666,
             "#ed7953"
            ],
            [
             0.7777777777777778,
             "#fb9f3a"
            ],
            [
             0.8888888888888888,
             "#fdca26"
            ],
            [
             1,
             "#f0f921"
            ]
           ],
           "sequentialminus": [
            [
             0,
             "#0d0887"
            ],
            [
             0.1111111111111111,
             "#46039f"
            ],
            [
             0.2222222222222222,
             "#7201a8"
            ],
            [
             0.3333333333333333,
             "#9c179e"
            ],
            [
             0.4444444444444444,
             "#bd3786"
            ],
            [
             0.5555555555555556,
             "#d8576b"
            ],
            [
             0.6666666666666666,
             "#ed7953"
            ],
            [
             0.7777777777777778,
             "#fb9f3a"
            ],
            [
             0.8888888888888888,
             "#fdca26"
            ],
            [
             1,
             "#f0f921"
            ]
           ]
          },
          "colorway": [
           "#636efa",
           "#EF553B",
           "#00cc96",
           "#ab63fa",
           "#FFA15A",
           "#19d3f3",
           "#FF6692",
           "#B6E880",
           "#FF97FF",
           "#FECB52"
          ],
          "font": {
           "color": "#2a3f5f"
          },
          "geo": {
           "bgcolor": "white",
           "lakecolor": "white",
           "landcolor": "#E5ECF6",
           "showlakes": true,
           "showland": true,
           "subunitcolor": "white"
          },
          "hoverlabel": {
           "align": "left"
          },
          "hovermode": "closest",
          "mapbox": {
           "style": "light"
          },
          "paper_bgcolor": "white",
          "plot_bgcolor": "#E5ECF6",
          "polar": {
           "angularaxis": {
            "gridcolor": "white",
            "linecolor": "white",
            "ticks": ""
           },
           "bgcolor": "#E5ECF6",
           "radialaxis": {
            "gridcolor": "white",
            "linecolor": "white",
            "ticks": ""
           }
          },
          "scene": {
           "xaxis": {
            "backgroundcolor": "#E5ECF6",
            "gridcolor": "white",
            "gridwidth": 2,
            "linecolor": "white",
            "showbackground": true,
            "ticks": "",
            "zerolinecolor": "white"
           },
           "yaxis": {
            "backgroundcolor": "#E5ECF6",
            "gridcolor": "white",
            "gridwidth": 2,
            "linecolor": "white",
            "showbackground": true,
            "ticks": "",
            "zerolinecolor": "white"
           },
           "zaxis": {
            "backgroundcolor": "#E5ECF6",
            "gridcolor": "white",
            "gridwidth": 2,
            "linecolor": "white",
            "showbackground": true,
            "ticks": "",
            "zerolinecolor": "white"
           }
          },
          "shapedefaults": {
           "line": {
            "color": "#2a3f5f"
           }
          },
          "ternary": {
           "aaxis": {
            "gridcolor": "white",
            "linecolor": "white",
            "ticks": ""
           },
           "baxis": {
            "gridcolor": "white",
            "linecolor": "white",
            "ticks": ""
           },
           "bgcolor": "#E5ECF6",
           "caxis": {
            "gridcolor": "white",
            "linecolor": "white",
            "ticks": ""
           }
          },
          "title": {
           "x": 0.05
          },
          "xaxis": {
           "automargin": true,
           "gridcolor": "white",
           "linecolor": "white",
           "ticks": "",
           "title": {
            "standoff": 15
           },
           "zerolinecolor": "white",
           "zerolinewidth": 2
          },
          "yaxis": {
           "automargin": true,
           "gridcolor": "white",
           "linecolor": "white",
           "ticks": "",
           "title": {
            "standoff": 15
           },
           "zerolinecolor": "white",
           "zerolinewidth": 2
          }
         }
        },
        "title": {
         "font": {
          "color": "black"
         },
         "text": "Fugro NGED Woodhall - Dead Species Intensity Histogram",
         "x": 0.5,
         "xanchor": "center",
         "y": 0.95,
         "yanchor": "top"
        },
        "xaxis": {
         "anchor": "y",
         "domain": [
          0,
          1
         ],
         "gridcolor": "white",
         "linecolor": "black",
         "linewidth": 2,
         "showline": true,
         "title": {
          "text": "Intensity"
         }
        },
        "yaxis": {
         "anchor": "x",
         "domain": [
          0,
          1
         ],
         "gridcolor": "black",
         "linecolor": "black",
         "linewidth": 2,
         "showline": true,
         "tickformat": ".0%",
         "title": {
          "text": "Percentage"
         }
        }
       }
      }
     },
     "metadata": {},
     "output_type": "display_data"
    }
   ],
   "source": [
    "df_percent = totalIntensity.loc[:, totalIntensity.columns.str.startswith('Percentage')]\n",
    "df_percent['Bin'] = range(0,len(df_percent))\n",
    "\n",
    "# Prepare dataset with decimal percentages\n",
    "df_final = pd.DataFrame()\n",
    "for col in df_percent.columns[:-1]:\n",
    "    temp_name = col[-2:].upper()\n",
    "    temp_df = pd.DataFrame({'Percentage': df_percent[col], 'SSP': temp_name, 'Intensity': df_percent['Bin']})\n",
    "    temp_df = temp_df.drop(0)\n",
    "    df_final = pd.concat([df_final, temp_df], ignore_index=True)\n",
    "df_final['Percentage'] = df_final['Percentage'] * 0.01\n",
    "\n",
    "##### Display data\n",
    "col_pal = px.colors.qualitative.Light24 # Create colour palette\n",
    "ssp_unique = df_final['SSP'].unique() # Get list of unique species in the order they appear\n",
    "\n",
    "# All Species plot\n",
    "all_col_pal = col_pal[0:len(ssp_unique)]\n",
    "fig_all = px.line(df_final,x='Intensity',y='Percentage',color='SSP', labels={'color': \"SSP\"}, color_discrete_sequence=all_col_pal)\n",
    "fig_all.update_layout(yaxis=dict(tickformat=\"%\"), title={'text': f\"{aoiName} - All Species Intensity Histogram\",\n",
    "        'y':0.95,'x':0.5,'xanchor': 'center','yanchor': 'top'}, legend_title=\"Species\",\n",
    "    title_x=0.5, font=dict(size=15), plot_bgcolor = \"white\",yaxis_tickformat=\".0%\", title_font_color='black')\n",
    "fig_all.update_xaxes(gridcolor=\"white\",showline=True, linewidth=2, linecolor='black')\n",
    "fig_all.update_yaxes(gridcolor=\"black\",showline=True, linewidth=2, linecolor='black')\n",
    "fig_all.show()\n",
    "\n",
    "# Deciduous plot\n",
    "dc_df = df_final[df_final['SSP'].isin(decid)]\n",
    "dc_idx = [x for x,z in enumerate(np.char.upper(ssp_unique.astype(str))) if z in decid] # get index of DC species\n",
    "dc_col_pal = [all_col_pal[i] for i in dc_idx] # configure colour palette for DC species\n",
    "fig_dc = px.line(dc_df,x='Intensity',y='Percentage',color='SSP', labels={'color': \"SSP\"}, color_discrete_sequence=dc_col_pal)\n",
    "fig_dc.update_layout(yaxis=dict(tickformat=\"%\"), title={'text': f\"{aoiName} - Deciduous Species Intensity Histogram\",\n",
    "        'y':0.95,'x':0.5,'xanchor': 'center','yanchor': 'top'}, legend_title=\"Species\",\n",
    "    title_x=0.5, font=dict(size=15), plot_bgcolor = \"white\",yaxis_tickformat=\".0%\", title_font_color='black')\n",
    "fig_dc.update_xaxes(gridcolor=\"white\",showline=True, linewidth=2, linecolor='black')\n",
    "fig_dc.update_yaxes(gridcolor=\"black\",showline=True, linewidth=2, linecolor='black')\n",
    "fig_dc.show()\n",
    "\n",
    "# Coniferous plot\n",
    "cn_df = df_final[df_final['SSP'].isin(conifer)]\n",
    "cn_idx = [x for x,z in enumerate(np.char.upper(ssp_unique.astype(str))) if z in conifer] # get index of CN species\n",
    "cn_col_pal = [all_col_pal[i] for i in cn_idx] # configure colour palette for CN species\n",
    "fig_cn = px.line(cn_df,x='Intensity',y='Percentage',color='SSP', labels={'color': \"SSP\"}, color_discrete_sequence=cn_col_pal)\n",
    "fig_cn.update_layout(yaxis=dict(tickformat=\"%\"), title={'text': f\"{aoiName} - Coniferous Species Intensity Histogram\",\n",
    "        'y':0.95,'x':0.5,'xanchor': 'center','yanchor': 'top'}, legend_title=\"Species\",\n",
    "    title_x=0.5, font=dict(size=15), plot_bgcolor = \"white\",yaxis_tickformat=\".0%\", title_font_color='black')\n",
    "fig_cn.update_xaxes(gridcolor=\"white\",showline=True, linewidth=2, linecolor='black')\n",
    "fig_cn.update_yaxes(gridcolor=\"black\",showline=True, linewidth=2, linecolor='black')\n",
    "fig_cn.show()\n",
    "\n",
    "# Dead plot\n",
    "de_df = df_final[df_final['SSP'].isin(dead)]\n",
    "de_idx = [x for x,z in enumerate(np.char.upper(ssp_unique.astype(str))) if z in dead] # get index of DE species\n",
    "de_col_pal = [all_col_pal[i] for i in de_idx] # configure colour palette for DE species\n",
    "fig_de = px.line(de_df,x='Intensity',y='Percentage',color='SSP', labels={'color': \"SSP\"}, color_discrete_sequence=de_col_pal)\n",
    "fig_de.update_layout(yaxis=dict(tickformat=\"%\"), title={'text': f\"{aoiName} - Dead Species Intensity Histogram\",\n",
    "        'y':0.95,'x':0.5,'xanchor': 'center','yanchor': 'top'}, legend_title=\"Species\",\n",
    "    title_x=0.5, font=dict(size=15), plot_bgcolor = \"white\",yaxis_tickformat=\".0%\", title_font_color='black')\n",
    "fig_de.update_xaxes(gridcolor=\"white\",showline=True, linewidth=2, linecolor='black')\n",
    "fig_de.update_yaxes(gridcolor=\"black\",showline=True, linewidth=2, linecolor='black')\n",
    "fig_de.show()\n",
    "\n",
    "# Save plots\n",
    "os.makedirs(f\"{outputDirectory}\\plots\",exist_ok=True)\n",
    "fig_all.write_image(f\"{outputDirectory}\\plots\\{aoiName}_allSpeciesPlot.png\",scale=3)\n",
    "fig_dc.write_image(f\"{outputDirectory}\\plots\\{aoiName}_decidSpeciesPlot.png\",scale=3)\n",
    "fig_cn.write_image(f\"{outputDirectory}\\plots\\{aoiName}_coniferSpeciesPlot.png\",scale=3)\n",
    "fig_de.write_image(f\"{outputDirectory}\\plots\\{aoiName}_deadSpeciesPlot.png\",scale=3)"
   ]
  },
  {
   "cell_type": "markdown",
   "metadata": {},
   "source": [
    "# Step 5\n",
    "Generate Powerpoint"
   ]
  },
  {
   "cell_type": "code",
   "execution_count": 12,
   "metadata": {},
   "outputs": [
    {
     "name": "stdout",
     "output_type": "stream",
     "text": [
      "Slide[1].TEXT_BOX[id=10].Run[0,0]: 'AOI Intensity Graphs ' -> 'Fugro NGED Woodhall Intensity Graphs '\n",
      "Slide[1].TEXT_BOX[id=12].Run[0,0]: 'DATE' -> 'January 19, 2024'\n",
      "0\n",
      "1\n"
     ]
    }
   ],
   "source": [
    "# Locate Intensity Graphs Template\n",
    "if os.path.exists(os.environ['LOCALAPPDATA'] + '\\\\Dropbox\\\\info.json'):\n",
    "    with open(os.environ['LOCALAPPDATA'] + '\\\\Dropbox\\\\info.json') as f:\n",
    "        template = json.load(f)['business']['path'] + r\"\\--directory--\\TEMPLATE_IntensityGraphs.pptx\"\n",
    "elif os.path.exists(os.environ['APPDATA'] + '\\\\Dropbox\\\\info.json'):\n",
    "    with open(os.environ['APPDATA'] + '\\\\Dropbox\\\\info.json') as f:\n",
    "        template = json.load(f)['business']['path'] + r\"\\--directory--\\TEMPLATE_IntensityGraphs.pptx\"\n",
    "\n",
    "### Prepare first slide\n",
    "# Get today's date\n",
    "currentDate = datetime.date.today()\n",
    "currentMonth = currentDate.strftime(\"%B\")\n",
    "currentDay = currentDate.strftime(\"%d\")\n",
    "currentYear = currentDate.strftime(\"%Y\")\n",
    "\n",
    "# Replace text in the title slide\n",
    "replacer = TextReplacer(template, slides='',\n",
    "                        tables=True, charts=True, textframes=True)\n",
    "replacer.replace_text( [ ('AOI Intensity Graphs ',f\"{aoiName} Intensity Graphs \") ] )\n",
    "replacer.replace_text( [ ('DATE',f\"{currentMonth} {currentDay}, {currentYear}\") ] )\n",
    "replacer.write_presentation_to_file(f\"{outputDirectory}\\{aoiName}_IntensityGraphs.pptx\")\n",
    "\n",
    "\n",
    "#### Prepare the rest of the slides\n",
    "presentation = Presentation(f\"{outputDirectory}\\{aoiName}_IntensityGraphs.pptx\")\n",
    "# Set image dimensions\n",
    "top =Inches(0.1)\n",
    "left = Inches(0.5)\n",
    "width = Inches(10.5)\n",
    "height = Inches(6.8)\n",
    "\n",
    "# Set slide 1\n",
    "all_species_slide = presentation.slides[1]\n",
    "all_species_img = all_species_slide.shapes.add_picture(f\"{outputDirectory}\\plots\\{aoiName}_allSpeciesPlot.png\",left,top,width,height)\n",
    "species_table = all_species_slide.shapes.add_table(len(spec_sum)+1,2,Inches(10.9),Inches(0.5),Inches(1),Inches(1)).table\n",
    "species_table.columns[0].width = Inches(1.2)\n",
    "species_table.columns[1].width = Inches(1.2)\n",
    "\n",
    "spec_sum = spec_sum.sort_values('Species')\n",
    "# Populate the table with data\n",
    "for i in range(0,2):\n",
    "    print(i)\n",
    "    cell_header = species_table.cell(0,i)\n",
    "    cell_header.text = str(spec_sum.columns.values[i])\n",
    "for i in range(0,len(spec_sum)):\n",
    "    cell0 = species_table.cell(i+1,0)\n",
    "    cell1 = species_table.cell(i+1,1)\n",
    "    cell0.alignment = PP_ALIGN.LEFT\n",
    "    cell1.alignment = PP_ALIGN.LEFT\n",
    "    #cell0.fill.solid()\n",
    "    #cell0.fill.back_color = (255,255,255) # white background colour\n",
    "    #cell1.fill.solid()\n",
    "    #cell1.fill.back_colour = (255,255,255)\n",
    "    cell0.text = str(spec_sum.iloc[i,0]).upper()\n",
    "    cell1.text = str(spec_sum.iloc[i,1])\n",
    "# Change table style\n",
    "#tbl =  species_table._element.graphic.graphicData.tbl\n",
    "#style_id = '{93296810-A885-4BE3-A3E7-6D5BEEA58F35}'\n",
    "#tbl[0][-1].text = style_id\n",
    "\n",
    "# Set slides 2-4\n",
    "dc_species_slide = presentation.slides[2]\n",
    "dc_species_img = dc_species_slide.shapes.add_picture(f\"{outputDirectory}\\plots\\{aoiName}_decidSpeciesPlot.png\",left,top,width,height)\n",
    "cn_species_slide = presentation.slides[3]\n",
    "cn_species_img = cn_species_slide.shapes.add_picture(f\"{outputDirectory}\\plots\\{aoiName}_coniferSpeciesPlot.png\",left,top,width,height)\n",
    "de_species_slide = presentation.slides[4]\n",
    "de_species_img = de_species_slide.shapes.add_picture(f\"{outputDirectory}\\plots\\{aoiName}_deadSpeciesPlot.png\",left,top,width,height)\n",
    "\n",
    "# Save presentation\n",
    "presentation.save(f\"{outputDirectory}\\{aoiName}_IntensityGraphs.pptx\")\n",
    "\n"
   ]
  }
 ],
 "metadata": {
  "kernelspec": {
   "display_name": "Python 3",
   "language": "python",
   "name": "python3"
  },
  "language_info": {
   "codemirror_mode": {
    "name": "ipython",
    "version": 3
   },
   "file_extension": ".py",
   "mimetype": "text/x-python",
   "name": "python",
   "nbconvert_exporter": "python",
   "pygments_lexer": "ipython3",
   "version": "3.11.1"
  }
 },
 "nbformat": 4,
 "nbformat_minor": 2
}
